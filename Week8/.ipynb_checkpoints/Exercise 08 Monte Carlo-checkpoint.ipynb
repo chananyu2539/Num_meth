{
 "cells": [
  {
   "cell_type": "markdown",
   "metadata": {},
   "source": [
    "## Pseudo Random Number Generator\n",
    "\n",
    "Let us learn about how to generate a random number."
   ]
  },
  {
   "cell_type": "code",
   "execution_count": 1,
   "metadata": {
    "collapsed": true
   },
   "outputs": [],
   "source": [
    "%matplotlib inline\n",
    "from matplotlib import pyplot as plt\n",
    "import numpy as np\n",
    "import math"
   ]
  },
  {
   "cell_type": "markdown",
   "metadata": {},
   "source": [
    "#### 1) Linear Congruent\n",
    "One of the easiest way to make random number is using linear congruential.\n",
    "\n",
    "$$x_{n+1} = a x_{n} + b \\mod 2^{31}$$\n",
    "\n",
    "pick a random $a$ and $b$ then try."
   ]
  },
  {
   "cell_type": "code",
   "execution_count": 8,
   "metadata": {
    "collapsed": false
   },
   "outputs": [
    {
     "name": "stdout",
     "output_type": "stream",
     "text": [
      "4 9 8 6 2 5 0 1 3 7 4 9 8 6 2 5 0 1 3 7 4 9 8 6 2 5 0 1 3 7 4 9 8 6 2 5 0 1 3 7 4 9 8 6 2 5 0 1 3 7 4 9 8 6 2 5 0 1 3 7 4 9 8 6 2 5 0 1 3 7 4 9 8 6 2 5 0 1 3 7 4 9 8 6 2 5 0 1 3 7 4 9 8 6 2 5 0 1 3 7 4 9 8 6 2 5 0 1 3 7 4 9 8 6 2 5 0 1 3 7 4 9 8 6 2 5 0 1 3 7 4 9 8 6 2 5 0 1 3 7 4 9 8 6 2 5 0 1 3 7 4 9 8 6 2 5 0 1 3 7 4 9 8 6 2 5 0 1 3 7 4 9 8 6 2 5 0 1 3 7 4 9 8 6 2 5 0 1 3 7 4 9 8 6 2 5 0 1 3 7\n"
     ]
    }
   ],
   "source": [
    "x0 = 777\n",
    "a = 13\n",
    "b = 639\n",
    "n = 11\n",
    "for i in range(200):\n",
    "    x0 = (a*x0+b)%n\n",
    "    print x0%n,\n",
    "\n",
    "    \n",
    "    \n",
    "# x0 = seed (first starting number), if not specify, typically it's time stamp.\n",
    "\n",
    "\n",
    "# n = cycle length; when it start to repeat"
   ]
  },
  {
   "cell_type": "markdown",
   "metadata": {},
   "source": [
    "#### 2) Cycle Problem\n",
    "\n",
    "One of the problem with linear congruent is short cycle length. For example,\n",
    "\n",
    "$$x_{n+1} =  ax_{n} + b \\mod 11$$\n",
    "\n",
    "No matter what value you give $a$ and $b$. Your cycle length will be at most 11."
   ]
  },
  {
   "cell_type": "code",
   "execution_count": 13,
   "metadata": {
    "collapsed": false
   },
   "outputs": [
    {
     "name": "stdout",
     "output_type": "stream",
     "text": [
      "4 9 8 6 2 5 0 1 3 7 4 9 8 6 2 5 0 1 3 7 4 9 8 6 2 5 0 1 3 7 4 9 8 6 2 5 0 1 3 7 4 9 8 6 2 5 0 1 3 7 4 9 8 6 2 5 0 1 3 7 4 9 8 6 2 5 0 1 3 7 4 9 8 6 2 5 0 1 3 7 4 9 8 6 2 5 0 1 3 7 4 9 8 6 2 5 0 1 3 7 4 9 8 6 2 5 0 1 3 7 4 9 8 6 2 5 0 1 3 7 4 9 8 6 2 5 0 1 3 7 4 9 8 6 2 5 0 1 3 7 4 9 8 6 2 5 0 1 3 7 4 9 8 6 2 5 0 1 3 7 4 9 8 6 2 5 0 1 3 7 4 9 8 6 2 5 0 1 3 7 4 9 8 6 2 5 0 1 3 7 4 9 8 6 2 5 0 1 3 7\n"
     ]
    }
   ],
   "source": [
    "x0 = 777\n",
    "a = 13\n",
    "b = 639\n",
    "n = 11\n",
    "for i in range(200):\n",
    "    x0 = (a*x0+b)%n\n",
    "    print x0%n,"
   ]
  },
  {
   "cell_type": "markdown",
   "metadata": {},
   "source": [
    "#### 3) Fixing Cycle problem\n",
    "\n",
    "One way to do it is to generate it with a better cycle and then mod 11."
   ]
  },
  {
   "cell_type": "code",
   "execution_count": 14,
   "metadata": {
    "collapsed": false
   },
   "outputs": [
    {
     "name": "stdout",
     "output_type": "stream",
     "text": [
      "4 9 8 6 2 3 7 9 0 1 10 7 6 7 8 3 5 3 0 3 3 7 10 3 2 9 5 0 8 9 4 9 7 6 7 1 1 5 1 6 10 10 3 0 6 0 1 3 2 2 6 4 7 8 1 6 10 4 10 10 9 7 5 5 10 8 7 10 0 10 10 4 8 6 8 3 9 4 6 3 7 8 6 7 6 1 4 8 9 8 2 9 8 0 2 5 3 5 9 6 4 0 1 3 4 3 1 5 0 6 7 8 3 6 1 0 2 6 8 5 7 2 3 7 10 1 8 0 8 3 1 0 8 9 7 4 9 2 5 7 2 3 7 6 9 7 4 3 6 5 10 7 5 3 8 10 5 0 7 8 6 3 5 4 6 2 0 6 4 2 10 8 9 7 4 10 10 3 6 3 9 3 2 5 4 1 9 10 7 4 9 0 10 5 8 4 6 9 5 3\n"
     ]
    }
   ],
   "source": [
    "x0 = 777\n",
    "a = 13\n",
    "b = 639\n",
    "n = 11\n",
    "for i in range(200):\n",
    "    x0 = (a*x0+b)%2**31\n",
    "    print x0%n,"
   ]
  },
  {
   "cell_type": "markdown",
   "metadata": {},
   "source": [
    "#### 4) Some available random number from numpy/python\n",
    "\n",
    "`np.random.random` for random a float uniformly between 0 and 1.\n",
    "\n",
    "`np.random.randint` for random integer uniformly in some range.\n",
    "\n",
    "`np.random.randn` for random float from normal distribution with mean 0 and standard deviation 1."
   ]
  },
  {
   "cell_type": "code",
   "execution_count": 51,
   "metadata": {
    "collapsed": false
   },
   "outputs": [
    {
     "data": {
      "image/png": "[encoded data removed]",
      "text/plain": [
       "<matplotlib.figure.Figure at 0x10c5c1050>"
      ]
     },
     "metadata": {},
     "output_type": "display_data"
    }
   ],
   "source": [
    "x= np.random.randn(1000000)\n",
    "plt.hist(x,bins=100);"
   ]
  },
  {
   "cell_type": "markdown",
   "metadata": {},
   "source": [
    "#### 5) Manipulating random number to get desired behavior.\n",
    "\n",
    "Random a float from 0 to 5.\n",
    "\n",
    "Random a float from -1 to 1.\n",
    "\n",
    "Random a float form normal distribution with mean 5 and std dev 1.\n",
    "\n",
    "Random a float form normal distribution with mean 2 and std dev 10."
   ]
  },
  {
   "cell_type": "code",
   "execution_count": 39,
   "metadata": {
    "collapsed": false
   },
   "outputs": [
    {
     "data": {
      "text/plain": [
       "-0.09434276013389242"
      ]
     },
     "execution_count": 39,
     "metadata": {},
     "output_type": "execute_result"
    }
   ],
   "source": [
    "np.random.random()*5\n",
    "np.random.random()*2-1\n"
   ]
  },
  {
   "cell_type": "code",
   "execution_count": 47,
   "metadata": {
    "collapsed": false
   },
   "outputs": [
    {
     "data": {
      "image/png": "[encoded data removed]",
      "text/plain": [
       "<matplotlib.figure.Figure at 0x10c6d5450>"
      ]
     },
     "metadata": {},
     "output_type": "display_data"
    }
   ],
   "source": [
    "x= np.random.randn(1000000)+5\n",
    "plt.hist(x,bins=100);"
   ]
  },
  {
   "cell_type": "code",
   "execution_count": 45,
   "metadata": {
    "collapsed": false
   },
   "outputs": [
    {
     "data": {
      "image/png": "[encoded data removed]",
      "text/plain": [
       "<matplotlib.figure.Figure at 0x10ba08150>"
      ]
     },
     "metadata": {},
     "output_type": "display_data"
    }
   ],
   "source": [
    "x= np.random.randn(1000000)*10+2\n",
    "plt.hist(x,bins=100);"
   ]
  },
  {
   "cell_type": "markdown",
   "metadata": {},
   "source": [
    "6) What does np.random.seed do?"
   ]
  },
  {
   "cell_type": "code",
   "execution_count": 52,
   "metadata": {
    "collapsed": false
   },
   "outputs": [
    {
     "data": {
      "text/plain": [
       "array([ 0.75091355,  0.53510262,  0.347295  ,  0.78739807,  0.14631122])"
      ]
     },
     "execution_count": 52,
     "metadata": {},
     "output_type": "execute_result"
    }
   ],
   "source": [
    "np.random.seed(2184390)\n",
    "np.random.random(5)"
   ]
  },
  {
   "cell_type": "markdown",
   "metadata": {},
   "source": [
    "### Monte Carlo Integration"
   ]
  },
  {
   "cell_type": "markdown",
   "metadata": {},
   "source": [
    "#### 1) Let integrate\n",
    "$$ \\iiint \\limits_{C} x^2(y-1)^2(z-2)^2\\exp(xyz) \\; dx \\; dy \\; dz$$\n",
    "Over a cube $x \\in [-1,1], y\\in [-1,1], z\\in [-1,1]$"
   ]
  },
  {
   "cell_type": "code",
   "execution_count": 56,
   "metadata": {
    "collapsed": false
   },
   "outputs": [
    {
     "name": "stdout",
     "output_type": "stream",
     "text": [
      "16.0782608297\n"
     ]
    }
   ],
   "source": [
    "n = 10000000\n",
    "x = np.random.random(n)*2-1\n",
    "y = np.random.random(n)*2-1\n",
    "z = np.random.random(n)*2-1\n",
    "\n",
    "v = np.sum(x**2*(y-1)**2*(z-2)**2*np.exp(x*y*z)*(8./n))\n",
    "print v"
   ]
  },
  {
   "cell_type": "markdown",
   "metadata": {},
   "source": [
    "#### 2) Evaluate\n",
    "$$ \\iiint \\limits_{C} x^2(y-1)^2(z-2)^2\\exp(xyz) \\; dx \\; dy \\; dz$$\n",
    "Over a sphere of radius 1 centered at the origin."
   ]
  },
  {
   "cell_type": "code",
   "execution_count": 5,
   "metadata": {
    "collapsed": false
   },
   "outputs": [
    {
     "name": "stdout",
     "output_type": "stream",
     "text": [
      "3.98487891269\n"
     ]
    }
   ],
   "source": [
    "n = 1000000\n",
    "\n",
    "v=0.\n",
    "for i in range(n):\n",
    "    x,y,z = np.random.random(3)*2-1\n",
    "    if ((x**2+y**2+z**2) <= 1.):\n",
    "        v+=x**2*(y-1)**2*(z-2)**2*math.exp(x*y*z)\n",
    "    \n",
    "print v*8./n"
   ]
  },
  {
   "cell_type": "markdown",
   "metadata": {},
   "source": [
    "3) Do we guarantee to get the same answer when we repeat the experiment?"
   ]
  },
  {
   "cell_type": "code",
   "execution_count": 6,
   "metadata": {
    "collapsed": false
   },
   "outputs": [
    {
     "name": "stdout",
     "output_type": "stream",
     "text": [
      "NO\n"
     ]
    }
   ],
   "source": [
    "print \"NO\""
   ]
  },
  {
   "cell_type": "markdown",
   "metadata": {},
   "source": [
    "4) What do we need to do to guarantee the same answer?"
   ]
  },
  {
   "cell_type": "code",
   "execution_count": 7,
   "metadata": {
    "collapsed": false
   },
   "outputs": [
    {
     "name": "stdout",
     "output_type": "stream",
     "text": [
      "SEED\n"
     ]
    }
   ],
   "source": [
    "print \"SEED\""
   ]
  },
  {
   "cell_type": "markdown",
   "metadata": {},
   "source": [
    "5) How do we defind the convergence and how fast is the convergence for monte carlo integration?"
   ]
  },
  {
   "cell_type": "code",
   "execution_count": 10,
   "metadata": {
    "collapsed": false
   },
   "outputs": [
    {
     "name": "stdout",
     "output_type": "stream",
     "text": [
      "Variance, or, Standard Deviation as measure of Convergence\n"
     ]
    }
   ],
   "source": [
    "print \"Variance, or, Standard Deviation as measure of Convergence\"\n",
    "\n",
    "# (V/sqrt(N))*sqrt(Var[f])"
   ]
  },
  {
   "cell_type": "markdown",
   "metadata": {},
   "source": [
    "## Monte Carlo Simulations"
   ]
  },
  {
   "cell_type": "markdown",
   "metadata": {},
   "source": [
    "### Loaded Die.\n",
    "\n",
    "<table>\n",
    "<tr style=\"text-align:center\">\n",
    "    <td>Number</td>\n",
    "    <td>1</td>\n",
    "    <td>2</td>\n",
    "    <td>3</td>\n",
    "    <td>4</td>\n",
    "    <td>5</td>\n",
    "    <td>6</td>\n",
    "</tr>\n",
    "<tr style=\"text-align:center\">\n",
    "    <td>Probability</td>\n",
    "    <td>0.3</td>\n",
    "    <td>0.2</td>\n",
    "    <td>0.1</td>\n",
    "    <td>0.2</td>\n",
    "    <td>0.1</td>\n",
    "    <td>0.1</td>\n",
    "</tr>\n",
    "</table>"
   ]
  },
  {
   "cell_type": "markdown",
   "metadata": {},
   "source": [
    "#### 1) Simulating the dice.\n",
    "\n",
    "Simulate the dice result such that it has the given probability distribution."
   ]
  },
  {
   "cell_type": "code",
   "execution_count": 30,
   "metadata": {
    "collapsed": false
   },
   "outputs": [
    {
     "data": {
      "image/png": "[encoded data removed]",
      "text/plain": [
       "<matplotlib.figure.Figure at 0x114aa8110>"
      ]
     },
     "metadata": {},
     "output_type": "display_data"
    }
   ],
   "source": [
    "def dice():\n",
    "    x = np.random.rand()\n",
    "    if x < 0.3:\n",
    "        return 1\n",
    "    elif x < 0.5:\n",
    "        return 2\n",
    "    elif x < 0.6:\n",
    "        return 3\n",
    "    elif x < 0.8:\n",
    "        return 4\n",
    "    elif x < 0.9:\n",
    "        return 5\n",
    "    else:\n",
    "        return 6\n",
    "\n",
    "x=[dice() for i in range(100000)]\n",
    "\n",
    "plt.hist(x,bins=11);"
   ]
  },
  {
   "cell_type": "markdown",
   "metadata": {},
   "source": [
    "#### 2) Expected Value.\n",
    "\n",
    "What is the expected value of dice result? Try both simulation and analytical formula."
   ]
  },
  {
   "cell_type": "code",
   "execution_count": 45,
   "metadata": {
    "collapsed": false
   },
   "outputs": [
    {
     "name": "stdout",
     "output_type": "stream",
     "text": [
      "2.9046\n"
     ]
    }
   ],
   "source": [
    "#simulate\n",
    "n=10000\n",
    "dicemean = sum(dice() for i in range(n))/float(n)\n",
    "print dicemean"
   ]
  },
  {
   "cell_type": "markdown",
   "metadata": {},
   "source": [
    "3) What is the expected value of $A+B$ where $A$ is the result of the first dice and $B$ is the result of the second dice? Use simulation and compare with analytic answer."
   ]
  },
  {
   "cell_type": "code",
   "execution_count": 51,
   "metadata": {
    "collapsed": false
   },
   "outputs": [
    {
     "name": "stdout",
     "output_type": "stream",
     "text": [
      "5.8072\n"
     ]
    }
   ],
   "source": [
    "n=10000\n",
    "tdicemean = sum((dice()+dice()) for i in range(n))/float(n)\n",
    "print tdicemean"
   ]
  },
  {
   "cell_type": "markdown",
   "metadata": {},
   "source": [
    "4) What is the expected value of $AB$?"
   ]
  },
  {
   "cell_type": "code",
   "execution_count": 53,
   "metadata": {
    "collapsed": false
   },
   "outputs": [
    {
     "name": "stdout",
     "output_type": "stream",
     "text": [
      "8.4552\n"
     ]
    }
   ],
   "source": [
    "n=10000\n",
    "thdicemean = sum((dice()*dice()) for i in range(n))/float(n)\n",
    "print thdicemean"
   ]
  },
  {
   "cell_type": "markdown",
   "metadata": {},
   "source": [
    "5) Try the experiment 10,000 times and plot out the probability of getting each result for $AB$. (Probability is given by #of times we get the number/total number of experiment."
   ]
  },
  {
   "cell_type": "code",
   "execution_count": 57,
   "metadata": {
    "collapsed": false
   },
   "outputs": [
    {
     "data": {
      "image/png": "[encoded data removed]",
      "text/plain": [
       "<matplotlib.figure.Figure at 0x11492ea10>"
      ]
     },
     "metadata": {},
     "output_type": "display_data"
    }
   ],
   "source": [
    "x=[dice()*dice() for i in range(10000)]\n",
    "\n",
    "plt.hist(x,bins=100);"
   ]
  },
  {
   "cell_type": "markdown",
   "metadata": {},
   "source": [
    "6) Now we play the games of two people. We take the product of the two dice. Whoever get more number wins. What is the probability of getting a draw."
   ]
  },
  {
   "cell_type": "code",
   "execution_count": 59,
   "metadata": {
    "collapsed": false
   },
   "outputs": [
    {
     "name": "stdout",
     "output_type": "stream",
     "text": [
      "0.0851\n"
     ]
    }
   ],
   "source": [
    "def draw_prob():\n",
    "    n=0.\n",
    "    totalround = 10000\n",
    "    for i in range(10000):\n",
    "        a = dice()*dice()\n",
    "        b = dice()*dice()\n",
    "        if (a==b):\n",
    "            n+=1\n",
    "            \n",
    "    return n/totalround\n",
    "print draw_prob()"
   ]
  },
  {
   "cell_type": "markdown",
   "metadata": {},
   "source": [
    "7) A little bit harder: consider the game of product dice. If our first dice is 3, what is the probability of winning?"
   ]
  },
  {
   "cell_type": "code",
   "execution_count": 65,
   "metadata": {
    "collapsed": false
   },
   "outputs": [
    {
     "name": "stdout",
     "output_type": "stream",
     "text": [
      "0.539\n"
     ]
    }
   ],
   "source": [
    "def draw_prob():\n",
    "    n=0.\n",
    "    totalround = 10000\n",
    "    for i in range(10000):\n",
    "        a = 3*dice()\n",
    "        b = dice()*dice()\n",
    "        if (a>b):\n",
    "            n+=1\n",
    "            \n",
    "    return n/totalround\n",
    "print draw_prob()"
   ]
  },
  {
   "cell_type": "code",
   "execution_count": null,
   "metadata": {
    "collapsed": true
   },
   "outputs": [],
   "source": []
  },
  {
   "cell_type": "markdown",
   "metadata": {},
   "source": [
    "### Geometric Brownian Motion.\n",
    "\n",
    "One popular way to simulate stock is using geometric brownian motion. Stockprice at $t+dt$ is related to the stock price at time $t$ by\n",
    "\n",
    "$$s(t+dt) = s(t) + s(t)(\\mu dt + \\epsilon\\sigma \\sqrt{dt}) $$\n",
    "\n",
    "where\n",
    "1. $\\mu$ is the mean rate of return. Typically quote as $\\%$ per year.\n",
    "2. $\\epsilon$ is a normally distributed random variable with mean 0 and variance of 1.\n",
    "3. $\\sigma$ is called volatility. It typically quoted as $\\%$ per $\\sqrt{\\text{year}}$. It represent how wildly stock can go.\n",
    "\n",
    "To use this formula, we need to make sure the unit for $t$ is correct. Normally just convert it to year\n",
    "\n",
    "All these number can be looked up from the internet (you can calculate one yourself from historical data too). \n",
    "\n",
    "Here is one example: google for aapl volatility.\n",
    "\n",
    "The funny unit of $\\sqrt{t}$ has to do with scaling behavior. You can read it in the lecture notes."
   ]
  },
  {
   "cell_type": "markdown",
   "metadata": {},
   "source": [
    "1) Given the volatility($\\sigma$) of $28\\%$ per $\\sqrt{\\text{year}}$ and mean rate of return $8.77\\%$. The stock today is 119.21$. Write a function to generate the price for tomorrow given the price today."
   ]
  },
  {
   "cell_type": "code",
   "execution_count": 85,
   "metadata": {
    "collapsed": false
   },
   "outputs": [
    {
     "data": {
      "text/plain": [
       "120.69655809707405"
      ]
     },
     "execution_count": 85,
     "metadata": {},
     "output_type": "execute_result"
    }
   ],
   "source": [
    "def tmr_price(currentp,mu,sigma):\n",
    "    e = np.random.randn()\n",
    "    dt = 1./252\n",
    "    return currentp + currentp*(mu*dt+e*sigma*dt**0.5)\n",
    "tmr_price(119.21,0.0877,0.28)"
   ]
  },
  {
   "cell_type": "markdown",
   "metadata": {},
   "source": [
    "2) Generate the price for 1 trading year(all the time we said year it actually means trading year). Have dt = 1 day. 1 Trading year is actually 252 day."
   ]
  },
  {
   "cell_type": "code",
   "execution_count": 97,
   "metadata": {
    "collapsed": false
   },
   "outputs": [
    {
     "data": {
      "text/plain": [
       "[<matplotlib.lines.Line2D at 0x116b02dd0>]"
      ]
     },
     "execution_count": 97,
     "metadata": {},
     "output_type": "execute_result"
    },
    {
     "data": {
      "image/png": "[encoded data removed]",
      "text/plain": [
       "<matplotlib.figure.Figure at 0x116a2d510>"
      ]
     },
     "metadata": {},
     "output_type": "display_data"
    }
   ],
   "source": [
    "def gen_price(price,mu,sigma):\n",
    "    ans = [price]\n",
    "    for i in range(251):\n",
    "        price = tmr_price(price,mu,sigma)\n",
    "        ans.append(price)\n",
    "    return ans\n",
    "rs = gen_price(119.21,0.0877,0.28)\n",
    "\n",
    "plt.plot(rs)"
   ]
  },
  {
   "cell_type": "code",
   "execution_count": 109,
   "metadata": {
    "collapsed": false
   },
   "outputs": [],
   "source": [
    "aapl = np.array([gen_price(119.21,0.0877,0.28) for i in range(10000)])"
   ]
  },
  {
   "cell_type": "code",
   "execution_count": 110,
   "metadata": {
    "collapsed": false
   },
   "outputs": [
    {
     "data": {
      "image/png": "[encoded data removed]",
      "text/plain": [
       "<matplotlib.figure.Figure at 0x114e9efd0>"
      ]
     },
     "metadata": {},
     "output_type": "display_data"
    }
   ],
   "source": [
    "for i in range(20):\n",
    "    plt.plot(aapl[i])"
   ]
  },
  {
   "cell_type": "markdown",
   "metadata": {},
   "source": [
    "3) What is the expected value of the stock at the end of year?"
   ]
  },
  {
   "cell_type": "code",
   "execution_count": 129,
   "metadata": {
    "collapsed": false
   },
   "outputs": [
    {
     "name": "stdout",
     "output_type": "stream",
     "text": [
      "129.957301379\n"
     ]
    },
    {
     "data": {
      "image/png": "[encoded data removed]",
      "text/plain": [
       "<matplotlib.figure.Figure at 0x116ecd1d0>"
      ]
     },
     "metadata": {},
     "output_type": "display_data"
    }
   ],
   "source": [
    "mmean = 0\n",
    "for i in range(10000):\n",
    "    mmean += aapl[i][-1]\n",
    "print mmean/10000.\n",
    "\n",
    "s = []\n",
    "for i in range(len(aapl)):\n",
    "    s.append(aapl[i][-1])\n",
    "plt.hist(s,bins=100);\n"
   ]
  },
  {
   "cell_type": "markdown",
   "metadata": {},
   "source": [
    "4) What is the variance of the stock at the end of the year?"
   ]
  },
  {
   "cell_type": "code",
   "execution_count": 136,
   "metadata": {
    "collapsed": false
   },
   "outputs": [
    {
     "name": "stdout",
     "output_type": "stream",
     "text": [
      "1370.18098921\n"
     ]
    }
   ],
   "source": [
    "mmean = 0\n",
    "mmeansqr = 0\n",
    "for i in range(10000):\n",
    "    mmean += aapl[i][-1]\n",
    "    mmeansqr += aapl[i][-1]**2\n",
    "    \n",
    "print mmeansqr/10000.-(mmean/10000.)**2\n",
    "\n"
   ]
  },
  {
   "cell_type": "markdown",
   "metadata": {},
   "source": [
    "5) What is the probability that the price of the stock will dip below 70 at anytime of the year?"
   ]
  },
  {
   "cell_type": "code",
   "execution_count": 137,
   "metadata": {
    "collapsed": false
   },
   "outputs": [
    {
     "name": "stdout",
     "output_type": "stream",
     "text": [
      "0.00516507936508\n"
     ]
    }
   ],
   "source": [
    "count = 0.\n",
    "for i in range(10000):\n",
    "    for j in range(len(aapl[i])):\n",
    "        if aapl[i][j] < 70:\n",
    "            count+=1\n",
    "print count/(10000.*len(aapl[0]))"
   ]
  },
  {
   "cell_type": "markdown",
   "metadata": {},
   "source": [
    "6) What is the proabability that th stock will dip below 100 and come back to 110 within a year? "
   ]
  },
  {
   "cell_type": "code",
   "execution_count": 141,
   "metadata": {
    "collapsed": false
   },
   "outputs": [
    {
     "name": "stdout",
     "output_type": "stream",
     "text": [
      "0.4504\n"
     ]
    }
   ],
   "source": [
    "count = 0.\n",
    "for i in range(10000):\n",
    "    dipped = False\n",
    "    comeback = False\n",
    "    for j in range(len(aapl[i])):\n",
    "        if(not dipped):\n",
    "            if aapl[i][j]<100:\n",
    "                dipped = True\n",
    "        elif(not comeback):\n",
    "            if aapl[i][j]>=110:\n",
    "                comeback = True\n",
    "                    \n",
    "        if(dipped and comeback):\n",
    "            count+=1\n",
    "            break\n",
    "            \n",
    "print count/10000."
   ]
  },
  {
   "cell_type": "markdown",
   "metadata": {},
   "source": [
    "### Hill Climbing"
   ]
  },
  {
   "cell_type": "markdown",
   "metadata": {},
   "source": [
    "### Biggest Triangle.\n",
    "Let us consider the problem of finding the triangle with maximum area from given 500 points."
   ]
  },
  {
   "cell_type": "code",
   "execution_count": 9,
   "metadata": {
    "collapsed": false
   },
   "outputs": [
    {
     "data": {
      "text/plain": [
       "[<matplotlib.lines.Line2D at 0x1060f04d0>]"
      ]
     },
     "execution_count": 9,
     "metadata": {},
     "output_type": "execute_result"
    },
    {
     "data": {
      "image/png": "[encoded data removed]",
      "text/plain": [
       "<matplotlib.figure.Figure at 0x1060fc090>"
      ]
     },
     "metadata": {},
     "output_type": "display_data"
    }
   ],
   "source": [
    "np.random.seed(13)\n",
    "n = 500\n",
    "x = np.random.randn(n)*2-1\n",
    "y = np.random.randn(n)*2-1\n",
    "plt.plot(x,y,'.r')"
   ]
  },
  {
   "cell_type": "code",
   "execution_count": 1,
   "metadata": {
    "collapsed": false
   },
   "outputs": [],
   "source": [
    "def triarea(x1,y1, x2,y2, x3,y3):\n",
    "    #shoelace formula\n",
    "    return 0.5*abs(x1*y2 + x2*y3 + x3*y1 - y1*x2 - y2*x3 - y3*x1)\n",
    "\n",
    "def triarea2(r):\n",
    "    x1,y1 = r[0]\n",
    "    x2,y2 = r[1]\n",
    "    x3,y3 = r[2]\n",
    "    return triarea(x1,y1, x2,y2, x3,y3)\n"
   ]
  },
  {
   "cell_type": "code",
   "execution_count": null,
   "metadata": {
    "collapsed": true
   },
   "outputs": [],
   "source": []
  },
  {
   "cell_type": "markdown",
   "metadata": {
    "collapsed": true
   },
   "source": [
    "### Scheduling Exam\n",
    "\n",
    "Give classes and the intersection of students. Find a decent scheduling under 15 slot for 70 classes. Number of student taking both class `i` and class `j` can be found using `student[i][j]`."
   ]
  },
  {
   "cell_type": "code",
   "execution_count": 105,
   "metadata": {
    "collapsed": false
   },
   "outputs": [
    {
     "name": "stdout",
     "output_type": "stream",
     "text": [
      "[[ 0 25 27 ..., 40  0 54]\n",
      " [25  0 64 ...,  0  0  8]\n",
      " [27 64  0 ...,  0 69 45]\n",
      " ..., \n",
      " [40  0  0 ...,  0 25 70]\n",
      " [ 0  0 69 ..., 25  0 66]\n",
      " [54  8 45 ..., 70 66  0]]\n"
     ]
    },
    {
     "data": {
      "text/plain": [
       "<matplotlib.image.AxesImage at 0x107dad490>"
      ]
     },
     "execution_count": 105,
     "metadata": {},
     "output_type": "execute_result"
    },
    {
     "data": {
      "image/png": "[encoded data removed]",
      "text/plain": [
       "<matplotlib.figure.Figure at 0x1079ce210>"
      ]
     },
     "metadata": {},
     "output_type": "display_data"
    }
   ],
   "source": [
    "nclass = 70\n",
    "student = np.random.randint(0,100,(nclass, nclass))\n",
    "\n",
    "np.random.seed(222)\n",
    "for i in range(nclass-1):\n",
    "    for j in range(i+1,nclass):\n",
    "        student[i,j] = student[j,i]\n",
    "\n",
    "for i in range(nclass):\n",
    "    student[i,i] = 0 \n",
    "    \n",
    "student[student>70] = 0\n",
    "    \n",
    "print student\n",
    "\n",
    "plt.matshow(student)"
   ]
  },
  {
   "cell_type": "code",
   "execution_count": null,
   "metadata": {
    "collapsed": true
   },
   "outputs": [],
   "source": []
  },
  {
   "cell_type": "markdown",
   "metadata": {},
   "source": [
    "### Simulated Annealing"
   ]
  },
  {
   "cell_type": "markdown",
   "metadata": {
    "collapsed": true
   },
   "source": [
    "1) What's wrong with Hill Climbing?"
   ]
  },
  {
   "cell_type": "code",
   "execution_count": null,
   "metadata": {
    "collapsed": true
   },
   "outputs": [],
   "source": []
  },
  {
   "cell_type": "markdown",
   "metadata": {},
   "source": [
    "2) What is the main idea for fixing that?"
   ]
  },
  {
   "cell_type": "code",
   "execution_count": null,
   "metadata": {
    "collapsed": true
   },
   "outputs": [],
   "source": []
  },
  {
   "cell_type": "markdown",
   "metadata": {},
   "source": [
    "3) Implement the exam scheduling again with Simulated Annealing"
   ]
  },
  {
   "cell_type": "code",
   "execution_count": null,
   "metadata": {
    "collapsed": true
   },
   "outputs": [],
   "source": []
  }
 ],
 "metadata": {
  "kernelspec": {
   "display_name": "Python 2",
   "language": "python",
   "name": "python2"
  },
  "language_info": {
   "codemirror_mode": {
    "name": "ipython",
    "version": 2
   },
   "file_extension": ".py",
   "mimetype": "text/x-python",
   "name": "python",
   "nbconvert_exporter": "python",
   "pygments_lexer": "ipython2",
   "version": "2.7.10"
  }
 },
 "nbformat": 4,
 "nbformat_minor": 0
}
