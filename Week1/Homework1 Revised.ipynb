{
 "cells": [
  {
   "cell_type": "code",
   "execution_count": 1,
   "metadata": {
    "collapsed": true
   },
   "outputs": [],
   "source": [
    "%matplotlib inline\n",
    "import numpy as np\n",
    "import math\n",
    "from matplotlib import pyplot as plt"
   ]
  },
  {
   "cell_type": "markdown",
   "metadata": {},
   "source": [
    "###Homework 1 Revised"
   ]
  },
  {
   "cell_type": "markdown",
   "metadata": {},
   "source": [
    "1) Plot $\\cos(x)$ from $-\\pi$ to $\\pi$ along with the Taylor approximation using (1,2,3,4) terms. I want 5 lines on the same graph."
   ]
  },
  {
   "cell_type": "code",
   "execution_count": 2,
   "metadata": {
    "collapsed": false
   },
   "outputs": [
    {
     "data": {
      "text/plain": [
       "[<matplotlib.lines.Line2D at 0x1082f5750>]"
      ]
     },
     "execution_count": 2,
     "metadata": {},
     "output_type": "execute_result"
    },
    {
     "data": {
      "image/png": "[encoded data removed]",
      "text/plain": [
       "<matplotlib.figure.Figure at 0x10822d8d0>"
      ]
     },
     "metadata": {},
     "output_type": "display_data"
    }
   ],
   "source": [
    "xs = np.linspace(-math.pi,math.pi,100)\n",
    "ys = [math.cos(x) for x in xs]\n",
    "\n",
    "os = [1 for x in xs]\n",
    "tws = [1-x**2/math.factorial(2) for x in xs]\n",
    "ths = [1 - x**2/math.factorial(2) + x**4/math.factorial(4) for x in xs]\n",
    "fs = [1 - x**2/math.factorial(2) + x**4/math.factorial(4) - x**6/math.factorial(6) for x in xs]\n",
    "\n",
    "plt.plot(xs,ys)\n",
    "plt.plot(xs,os)\n",
    "plt.plot(xs,tws)\n",
    "plt.plot(xs,ths)\n",
    "plt.plot(xs,fs)"
   ]
  },
  {
   "cell_type": "markdown",
   "metadata": {},
   "source": [
    "2) If we estimate $\\cos(0.1)$ using 4 **non-zero** terms, what is the bound on the **truncation error**."
   ]
  },
  {
   "cell_type": "code",
   "execution_count": 3,
   "metadata": {
    "collapsed": false
   },
   "outputs": [
    {
     "name": "stdout",
     "output_type": "stream",
     "text": [
      "1.98412698413e-11\n"
     ]
    }
   ],
   "source": [
    "def calError(x,f,e):\n",
    "    c_e = f*np.abs((x**(e+1))/math.factorial(e+1))\n",
    "    return c_e\n",
    "print calError(0.1,1,6)\n"
   ]
  },
  {
   "cell_type": "markdown",
   "metadata": {},
   "source": [
    "3) How many **non-zero** terms do we need to calculate $\\cos(0.1)$ such that the bound on the **truncation error** is less than $10^{-7}$"
   ]
  },
  {
   "cell_type": "code",
   "execution_count": 4,
   "metadata": {
    "collapsed": false
   },
   "outputs": [
    {
     "name": "stdout",
     "output_type": "stream",
     "text": [
      "Term: 3(x^4), error: 8.33333333333e-08\n"
     ]
    }
   ],
   "source": [
    "def passError(x,f,e,limit):\n",
    "    while(True):\n",
    "        c_e = calError(x,f,e)\n",
    "        if c_e <= limit:\n",
    "            return e+1,c_e\n",
    "        e+=2\n",
    "t,e = passError(0.1,1,0,0.0000001)\n",
    "print \"Term: {}(x^{}), error: {}\".format((t-1)/2+1,t-1,e)"
   ]
  },
  {
   "cell_type": "markdown",
   "metadata": {},
   "source": [
    "4) Plot $\\ln (1+x)$ from $-0.5$ to $0.5$ along with the Taylor approximation using (1,2,3,4) terms. I want 5 lines on the same plot."
   ]
  },
  {
   "cell_type": "code",
   "execution_count": 5,
   "metadata": {
    "collapsed": false
   },
   "outputs": [
    {
     "data": {
      "text/plain": [
       "[<matplotlib.lines.Line2D at 0x1084586d0>]"
      ]
     },
     "execution_count": 5,
     "metadata": {},
     "output_type": "execute_result"
    },
    {
     "data": {
      "image/png": "[encoded data removed]",
      "text/plain": [
       "<matplotlib.figure.Figure at 0x10822d150>"
      ]
     },
     "metadata": {},
     "output_type": "display_data"
    }
   ],
   "source": [
    "xs = np.linspace(-0.5,0.5,100)\n",
    "ys = [math.log(x+1) for x in xs]\n",
    "os = [x for x in xs]\n",
    "tws= [x - x**2/math.factorial(2) for x in xs]\n",
    "ths= [x - x**2/math.factorial(2) + 2*x**3/math.factorial(3) for x in xs]\n",
    "fs = [x - x**2/math.factorial(2) + 2*x**3/math.factorial(3) - 6*x**4/math.factorial(4) for x in xs]\n",
    "\n",
    "\n",
    "plt.plot(xs,ys)\n",
    "plt.plot(xs,os)\n",
    "plt.plot(xs,tws)\n",
    "plt.plot(xs,ths)\n",
    "plt.plot(xs,fs)"
   ]
  },
  {
   "cell_type": "markdown",
   "metadata": {},
   "source": [
    "5)If we calculate $\\ln(1.5)$ using 3 **non-zero** terms, what is the bound on the **truncation error**."
   ]
  },
  {
   "cell_type": "code",
   "execution_count": 38,
   "metadata": {
    "collapsed": false
   },
   "outputs": [
    {
     "name": "stdout",
     "output_type": "stream",
     "text": [
      "0.015625\n"
     ]
    }
   ],
   "source": [
    "# f<=6 as 6/(1+x)^4 has most value when x = 0\n",
    "def calError(x,f,e):\n",
    "    c_e = f*np.abs((x**(e+1))/math.factorial(e+1))\n",
    "    return c_e\n",
    "e= calError(0.5,6.,3)\n",
    "print e\n",
    "# x = 0.5\n",
    "# s = x - x**2/math.factorial(2) + 2.*x**3/math.factorial(3)\n",
    "# print math.log(1.5)\n",
    "# print s\n",
    "# print s+e,s-e\n"
   ]
  },
  {
   "cell_type": "markdown",
   "metadata": {},
   "source": [
    "6)How many **non-zero** terms do we need to calculate $\\ln(1.5)$ such that the bound on **truncation error** is less than $10^{-7}$. Be sure to justify the maximum of $f^{(n+1)}(\\xi)$ term.\n"
   ]
  },
  {
   "cell_type": "code",
   "execution_count": 7,
   "metadata": {
    "collapsed": false
   },
   "outputs": [
    {
     "name": "stdout",
     "output_type": "stream",
     "text": [
      "Non-zero term: 19(x^19), error: 4.76837158203e-08\n"
     ]
    }
   ],
   "source": [
    "def newPassError(x,f,e,limit):\n",
    "    while(True):\n",
    "        c_e = calError(x,math.factorial(f),e)\n",
    "        if c_e <= limit:\n",
    "            return e+1,c_e\n",
    "        e+=1\n",
    "        f+=1\n",
    "t,e = newPassError(0.5,1.0,1,0.0000001)\n",
    "print \"Non-zero term: {}(x^{}), error: {}\".format(t-1,t-1,e)\n",
    "\n",
    "# print calError(0.5)\n"
   ]
  },
  {
   "cell_type": "markdown",
   "metadata": {},
   "source": [
    "7) Notice that $\\tan(1) = \\pi/4$ , this means we can calculate $\\pi$ by using $4 \\times \\arctan(1)$\n",
    "\n",
    "So this means that if we find Taylor series expansion of $\\arctan(x)$ around $x=0$, then we can calculate $\\pi$ to any accuracy we want."
   ]
  },
  {
   "cell_type": "markdown",
   "metadata": {},
   "source": [
    "7.1) Find taylor expansion of $\\arctan$ for 3 **non-zero** terms. If you forgot,\n",
    "$$\n",
    "\\frac{d}{dx} \\arctan(x) = \\frac{1}{1+x^2}\n",
    "$$"
   ]
  },
  {
   "cell_type": "markdown",
   "metadata": {
    "collapsed": true
   },
   "source": [
    "$$\n",
    "a_0 = \\arctan(0) = 0\n",
    "$$"
   ]
  },
  {
   "cell_type": "markdown",
   "metadata": {},
   "source": [
    "$$\n",
    "a_1 = f'(x) = \\frac{1}{1+x^2} = f'(0) = 1\n",
    "$$"
   ]
  },
  {
   "cell_type": "markdown",
   "metadata": {},
   "source": [
    "$$\n",
    "a_2 = f\"(x) = -\\frac{2x}{(1+x^2)^2} = f\"(0) = 0\n",
    "$$"
   ]
  },
  {
   "cell_type": "markdown",
   "metadata": {},
   "source": [
    "$$\n",
    "a_3 = f^{(3)}(x) = \\frac{6x^2-2}{(1+x^2)^3} = f^{(3)}(0) = -2\n",
    "$$"
   ]
  },
  {
   "cell_type": "markdown",
   "metadata": {
    "collapsed": true
   },
   "source": [
    "$$\n",
    "a_4 = f^{(4)}(x) = \\frac{24x(x^2-1)}{(x^2+1)^4} = f^{(4)}(0)  = 0\n",
    "$$"
   ]
  },
  {
   "cell_type": "markdown",
   "metadata": {},
   "source": [
    "$$\n",
    "a_5 = f^{(5)}(x) = -\\frac{24(5x^4-1)}{(x^2+1)^5} = f^{(5)}(0) = 24\n",
    "$$"
   ]
  },
  {
   "cell_type": "markdown",
   "metadata": {},
   "source": [
    "7.2) Guess the rest of the terms"
   ]
  },
  {
   "cell_type": "markdown",
   "metadata": {
    "collapsed": true
   },
   "source": [
    "$$\n",
    "x-\\frac{2}{3!}x^3+\\frac{24}{5!}x^5+\\dots\n",
    "= x-\\frac{x^3}{3}+\\frac{x^5}{5}-\\frac{x^7}{7}+...+(-1)^{\\frac{n-1}{2}}\\frac{x^n}{n} \\forall n \\in \\{1,3,5,7,...\\}\n",
    "$$"
   ]
  },
  {
   "cell_type": "markdown",
   "metadata": {},
   "source": [
    "7.3) Calculate $\\pi$ using taylor approximation for 100 **non-zero** terms. (Note I changed this to 100 terms so you must write some sort of for loop to do it)."
   ]
  },
  {
   "cell_type": "code",
   "execution_count": 37,
   "metadata": {
    "collapsed": false
   },
   "outputs": [
    {
     "name": "stdout",
     "output_type": "stream",
     "text": [
      "0.78289822589\n",
      "0.005\n",
      "Pi upperbound,ans,lowerbound: 3.15159290356,3.13159290356,3.11159290356\n"
     ]
    }
   ],
   "source": [
    "ans = 0\n",
    "x=1\n",
    "for i in range(1,201,2):\n",
    "    ans += (-1.)**((i-1)/2.)*(x**i)/i\n",
    "err = 0\n",
    "err = np.abs(1./200)\n",
    "print ans\n",
    "print err\n",
    "    \n",
    "print \"Pi upperbound,ans,lowerbound: {},{},{}\".format(4*(ans+err),4*ans,4*(ans-err))\n",
    "\n"
   ]
  },
  {
   "cell_type": "markdown",
   "metadata": {},
   "source": [
    "8) The purpose of this problem is to make sure you know that the bound on $f^{(n+1)}(\\xi)$ after all the cancellation is **NOT** necessarily 1 **NOR** does it have to look the same as the next term in the series.\n",
    "\n",
    "8.1)Find the first 3 **non-zero** terms of Taylor series for\n",
    "$$f(x) = \\frac{1}{1-x}$$"
   ]
  },
  {
   "cell_type": "markdown",
   "metadata": {
    "collapsed": true
   },
   "source": [
    "$$\n",
    "f(x) = 1 + \\frac{x}{(1-x)^2} - \\frac{2x^2}{(x-1)^3*2!} + \\frac{6x^3}{(x-1)^4*3!}\n",
    "$$\n",
    "\n",
    "$$\n",
    "f(x) = 1 + \\frac{x}{(1-x)^2} - \\frac{x^2}{(x-1)^3*} + \\frac{x^3}{(x-1)^4}\n",
    "$$"
   ]
  },
  {
   "cell_type": "markdown",
   "metadata": {},
   "source": [
    "8.2) If we estimate $$\\frac{1}{0.8} = \\frac{1}{1-0.2}$$ using the first 3 non-zero terms, what is the bound on the truncation error. Be careful about evaluating the bound for $f^{(n+1)}({\\xi})$."
   ]
  },
  {
   "cell_type": "markdown",
   "metadata": {},
   "source": [
    "error term $$\n",
    "= \\frac{6x^3}{(x-1)^4}\n",
    "$$"
   ]
  },
  {
   "cell_type": "code",
   "execution_count": 36,
   "metadata": {
    "collapsed": false
   },
   "outputs": [
    {
     "name": "stdout",
     "output_type": "stream",
     "text": [
      "0.00325520833333\n"
     ]
    }
   ],
   "source": [
    "\n",
    "f = (1/((0.2-1)**4))\n",
    "error = f * (0.2**3/6.)\n",
    "print error"
   ]
  },
  {
   "cell_type": "code",
   "execution_count": null,
   "metadata": {
    "collapsed": true
   },
   "outputs": [],
   "source": []
  },
  {
   "cell_type": "code",
   "execution_count": null,
   "metadata": {
    "collapsed": true
   },
   "outputs": [],
   "source": []
  }
 ],
 "metadata": {
  "kernelspec": {
   "display_name": "Python 2",
   "language": "python",
   "name": "python2"
  },
  "language_info": {
   "codemirror_mode": {
    "name": "ipython",
    "version": 2
   },
   "file_extension": ".py",
   "mimetype": "text/x-python",
   "name": "python",
   "nbconvert_exporter": "python",
   "pygments_lexer": "ipython2",
   "version": "2.7.10"
  }
 },
 "nbformat": 4,
 "nbformat_minor": 0
}
