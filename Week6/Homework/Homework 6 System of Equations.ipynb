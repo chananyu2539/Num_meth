{
 "cells": [
  {
   "cell_type": "code",
   "execution_count": 2,
   "metadata": {
    "collapsed": true
   },
   "outputs": [],
   "source": [
    "import numpy as np\n",
    "from matplotlib import pyplot as plt\n",
    "import math"
   ]
  },
  {
   "cell_type": "markdown",
   "metadata": {},
   "source": [
    "####1) Gaussian Elimination\n",
    "\n",
    "Implement Gaussian Elimination and solve this equation. Your function should look like `solve(A, B)`.  Make sure your code works for arbitary size of square matrix A.\n",
    "\n",
    "$$A x= B$$\n",
    "\n",
    "Let me warn you that despite knowing exactly what to do, this is a debugging nightmare. Try your program on small matrix like $2\\times2$ and $3\\times3$ matrix first. Make sure you get forward elimination working first then try backward substitution. You may also find numpy slicing and broadcast operations in exercise useful.\n",
    "\n",
    "Challenge: I recall that Jay(our alumni) wrote this in $<5$ lines using comprehension. Do this **only if** you finish the long version and do not forget to submit the long version.\n",
    "\n",
    "This is something you should do it once in your life. Then for the rest of your life use `np.linalg.solve` or some library if you need to solve system of linear equations."
   ]
  },
  {
   "cell_type": "code",
   "execution_count": 178,
   "metadata": {
    "collapsed": false
   },
   "outputs": [],
   "source": [
    "A = np.array([[-0.07720066,  1.24180298, -1.70285456, -1.59426978, -3.01504378,\n",
    "        -0.01902549, -0.03201064, -0.48214818, -1.27554107, -1.86678803],\n",
    "       [-1.31026178, -0.2971768 ,  1.33060751, -1.18923338,  1.26796178,\n",
    "         1.00551987,  0.00766911, -1.31224212, -0.50902706,  1.08833534],\n",
    "       [ 0.00514475,  0.1884909 , -0.4100754 ,  0.50341764,  0.58709926,\n",
    "        -0.37333076,  1.2869738 ,  0.05395632, -0.46286786, -0.76367185],\n",
    "       [ 0.40365969, -1.96291233, -0.50175568,  0.18142524, -0.67746751,\n",
    "         0.67076161, -0.95049002,  2.74931199, -1.13015379,  0.27785431],\n",
    "       [-0.09189647, -0.39525972,  0.37683505, -0.96245216, -0.5243782 ,\n",
    "         0.29585765,  0.36129507,  0.29181967,  1.7310231 ,  0.7081621 ],\n",
    "       [ 0.51380985, -0.30144819, -0.90054149,  0.0070792 ,  1.49102295,\n",
    "        -0.74968201, -2.10741739,  0.42250329, -0.77394164, -0.70696497],\n",
    "       [ 0.81974365, -0.35722291,  0.65875384, -2.13288612, -0.38778701,\n",
    "         0.01710055,  1.2020558 , -1.16650793,  0.64024404, -0.78791643],\n",
    "       [-1.7032489 , -0.22689565,  1.25694671, -0.1527868 ,  1.40786095,\n",
    "         0.81767256, -0.85561595,  0.70192948, -0.67892646,  0.62788067],\n",
    "       [ 1.6163143 ,  0.10904024,  0.172866  ,  2.07392891,  0.9166984 ,\n",
    "         0.72032333, -0.61654133,  0.3757916 ,  0.330539  ,  0.84006191],\n",
    "       [-0.81789953, -0.84657951, -1.55897657, -0.46275441,  0.05571126,\n",
    "        -2.07063125, -0.32495521, -0.79838269, -0.02436165,  0.6087792 ]])\n",
    "\n",
    "B = np.array([ 0.44856869, -0.24446046, -0.41493562,  0.20844983,  0.58973061,\n",
    "        0.3997515 , -1.21156859,  1.67593083, -1.41259173,  1.76241789])"
   ]
  },
  {
   "cell_type": "code",
   "execution_count": 179,
   "metadata": {
    "collapsed": false
   },
   "outputs": [
    {
     "name": "stdout",
     "output_type": "stream",
     "text": [
      "[ 2.28049472  5.76716414  1.19636714 -3.84073903  0.71087622 -4.3287015\n",
      "  1.13760969  4.24796351 -2.82480127  5.39997647]\n"
     ]
    }
   ],
   "source": [
    "def forward(A,C):\n",
    "    Ai = A.copy()\n",
    "    Ci = C.copy()\n",
    "    row = Ai.shape[0]\n",
    "    for i in range(row):\n",
    "        for j in range(i+1,row):\n",
    "            Ci[j] = Ci[j] - Ai[j,i]/Ai[i,i]*Ci[i]\n",
    "            Ai[j,:] = Ai[j,:] - Ai[j,i]/Ai[i,i]*Ai[i,:]\n",
    "    return Ai,Ci\n",
    "\n",
    "def backward(A,C):\n",
    "    Ai = A.copy()\n",
    "    Ci = C.copy()\n",
    "    ans = np.zeros(Ci.shape)\n",
    "    for i in range(Ai.shape[0]-1,-1,-1):\n",
    "        csum = 0\n",
    "        for j in range(i+1,Ai.shape[0]):\n",
    "#             print i,j\n",
    "            csum += Ai[i,j]*ans[j]     \n",
    "        ans[i] = (Ci[i] - csum)/Ai[i,i]\n",
    "    return ans\n",
    "        \n",
    "nA,nC = forward(A,B)       \n",
    "aAns = backward(nA,nC)\n",
    "\n",
    "print aAns\n"
   ]
  },
  {
   "cell_type": "code",
   "execution_count": 180,
   "metadata": {
    "collapsed": false
   },
   "outputs": [
    {
     "name": "stdout",
     "output_type": "stream",
     "text": [
      "[ 0.44856869 -0.24446046 -0.41493562  0.20844983  0.58973061  0.3997515\n",
      " -1.21156859  1.67593083 -1.41259173  1.76241789]\n"
     ]
    }
   ],
   "source": [
    "nA,nC = forward(A,B)       \n",
    "aAns = backward(nA,nC)\n",
    "\n",
    "print np.dot(A,aAns)"
   ]
  },
  {
   "cell_type": "code",
   "execution_count": 166,
   "metadata": {
    "collapsed": false
   },
   "outputs": [
    {
     "name": "stdout",
     "output_type": "stream",
     "text": [
      "[ 2.28049472  5.76716414  1.19636714 -3.84073903  0.71087622 -4.3287015\n",
      "  1.13760969  4.24796351 -2.82480127  5.39997647]\n"
     ]
    }
   ],
   "source": [
    "x = np.linalg.solve(A,B)\n",
    "print x"
   ]
  },
  {
   "cell_type": "markdown",
   "metadata": {},
   "source": [
    "####2) Finding Inverse.\n",
    "\n",
    "The question is long but the answer is doesn't require much code if you know what to do.\n",
    "\n",
    "Gaussian Elimination can actually be used to find inverse matrix. Inverse matrix of matrix $A$ is denoted by $A^{-1}$ and it as the property that\n",
    "$$A \\times A^{-1} = I$$\n",
    "where $I$ is an identity matrix.\n",
    "\n",
    "For example, Let\n",
    "\n",
    "$$ A = \\begin{bmatrix}\n",
    "    -1 & 0 & 2 \\\\\n",
    "    0 & 5 & 1 \\\\\n",
    "    1 & 0 & -1\n",
    "    \\end{bmatrix}\n",
    "$$\n",
    "\n",
    "Then,\n",
    "\n",
    "$$\n",
    "    A^{-1} = \\begin{bmatrix}\n",
    "    1 & 0 & 2\\\\\n",
    "    -0.2 & 0.2 & -0.2\\\\\n",
    "    1 & 0 & 1\n",
    "    \\end{bmatrix}\n",
    "$$"
   ]
  },
  {
   "cell_type": "code",
   "execution_count": 167,
   "metadata": {
    "collapsed": false
   },
   "outputs": [
    {
     "name": "stdout",
     "output_type": "stream",
     "text": [
      "[[-1.  0.  2.]\n",
      " [ 0.  5.  1.]\n",
      " [ 1.  0. -1.]]\n",
      "[[ 1.   0.   2. ]\n",
      " [-0.2  0.2 -0.2]\n",
      " [ 1.   0.   1. ]]\n",
      "[[ 1.  0.  0.]\n",
      " [ 0.  1.  0.]\n",
      " [ 0.  0.  1.]]\n",
      "[[ 1.  0.  0.]\n",
      " [ 0.  1.  0.]\n",
      " [ 0.  0.  1.]]\n"
     ]
    }
   ],
   "source": [
    "A=np.array([[-1.,0,2],[0,5,1],[1,0,-1]])\n",
    "print A\n",
    "Ainv = np.array([[1,0,2],[-0.2,0.2,-0.2],[1,0,1]])\n",
    "print Ainv\n",
    "prod1 = np.dot(A, Ainv) #that's how you do matrix multiplication in numpy\n",
    "print prod1\n",
    "prod2 = np.dot(Ainv, A)\n",
    "print prod2"
   ]
  },
  {
   "cell_type": "markdown",
   "metadata": {},
   "source": [
    "Solving for inverse is the same as finding matrix $B$ such that\n",
    "$$ A \\times B = I$$\n",
    "\n",
    "If you were given a good education in basic math class, you may have noticed that finding an inverse is actually the same as solving equations.\n",
    "Let us consider the first column of the identity matrix.\n",
    "\n",
    "$$\n",
    "\\begin{bmatrix}\n",
    "1 \\\\ 0 \\\\ 0\n",
    "\\end{bmatrix}\n",
    "$$\n",
    "\n",
    "This column is obtained by the first column of the matrix $B$ with $A$ \n",
    "\n",
    "$$\\begin{bmatrix}\n",
    "    -1 & 0 & 2 \\\\\n",
    "    0 & 5 & 1 \\\\\n",
    "    1 & 0 & -1\n",
    "    \\end{bmatrix}\n",
    "    \\times\n",
    "\\begin{bmatrix}\n",
    "    \\color{red}{b_{1,1}} & b_{1,2} & b_{1,3} \\\\\n",
    "    \\color{red}{b_{2,1}} & b_{2,2} & b_{2,3} \\\\\n",
    "    \\color{red}{b_{3,1}} & b_{3,2} & b_{3,3}\n",
    "    \\end{bmatrix}  \n",
    "    =\n",
    "    \\begin{bmatrix}\n",
    "    \\color{red}{1} & 0 & 0 \\\\\n",
    "    \\color{red}{0} & 1 & 0 \\\\\n",
    "    \\color{red}{0} & 0 & 1\n",
    "    \\end{bmatrix}\n",
    "$$\n",
    "\n",
    "Ignoring all the $b$'s that does not contribute to the first column of identity matrix we have the problem of\n",
    "$$\\begin{bmatrix}\n",
    "    -1 & 0 & 2 \\\\\n",
    "    0 & 5 & 1 \\\\\n",
    "    1 & 0 & -1\n",
    "    \\end{bmatrix}\n",
    "    \\times\n",
    "\\begin{bmatrix}\n",
    "    \\color{red}{b_{1,1}} \\\\\n",
    "    \\color{red}{b_{2,1}} \\\\\n",
    "    \\color{red}{b_{3,1}}\n",
    "    \\end{bmatrix}  \n",
    "    =\n",
    "    \\begin{bmatrix}\n",
    "    \\color{red}{1} \\\\\n",
    "    \\color{red}{0}  \\\\\n",
    "    \\color{red}{0} \n",
    "    \\end{bmatrix}\n",
    "$$\n",
    "which is something we know how to solve. Solving this equation will give us the first column of $B$. The same logic can be applied to other columns and figure out the rest of $b$.\n",
    "\n",
    "There are two ways to write this. First, inefficient way of solving the same equation over and over. Second, modify what we did in problem 1) instead of having $c$ as column matrix you have $c$ as an $n\\times n$ matrix. Any of the two implementations will receive full credit.\n",
    "\n",
    "Do the inefficient one and finish the rest of the homework first. This can be done in less than 10 lines. If you have time, I encourage you to do it efficiently.\n",
    "\n",
    "Hint: check your answer against `np.linalg.inv`\n",
    "\n",
    "Hint2: You may find broadcast assignment you learned in exercise useful."
   ]
  },
  {
   "cell_type": "markdown",
   "metadata": {},
   "source": [
    "####Your task for problem 2)\n",
    "Implement a function that find an inverse of an $n\\times n$ matrix. Then find the inverse of matrix $A$ given below. You code should work with all size of $n$.\n",
    "\n",
    "This is something you should do it once in your life. Then for the rest of your life use `np.linalg.inv` or some library if you need to find and inverse."
   ]
  },
  {
   "cell_type": "code",
   "execution_count": 43,
   "metadata": {
    "collapsed": true
   },
   "outputs": [],
   "source": [
    "A = np.array([[-0.07720066,  1.24180298, -1.70285456, -1.59426978, -3.01504378,\n",
    "        -0.01902549, -0.03201064, -0.48214818, -1.27554107, -1.86678803],\n",
    "       [-1.31026178, -0.2971768 ,  1.33060751, -1.18923338,  1.26796178,\n",
    "         1.00551987,  0.00766911, -1.31224212, -0.50902706,  1.08833534],\n",
    "       [ 0.00514475,  0.1884909 , -0.4100754 ,  0.50341764,  0.58709926,\n",
    "        -0.37333076,  1.2869738 ,  0.05395632, -0.46286786, -0.76367185],\n",
    "       [ 0.40365969, -1.96291233, -0.50175568,  0.18142524, -0.67746751,\n",
    "         0.67076161, -0.95049002,  2.74931199, -1.13015379,  0.27785431],\n",
    "       [-0.09189647, -0.39525972,  0.37683505, -0.96245216, -0.5243782 ,\n",
    "         0.29585765,  0.36129507,  0.29181967,  1.7310231 ,  0.7081621 ],\n",
    "       [ 0.51380985, -0.30144819, -0.90054149,  0.0070792 ,  1.49102295,\n",
    "        -0.74968201, -2.10741739,  0.42250329, -0.77394164, -0.70696497],\n",
    "       [ 0.81974365, -0.35722291,  0.65875384, -2.13288612, -0.38778701,\n",
    "         0.01710055,  1.2020558 , -1.16650793,  0.64024404, -0.78791643],\n",
    "       [-1.7032489 , -0.22689565,  1.25694671, -0.1527868 ,  1.40786095,\n",
    "         0.81767256, -0.85561595,  0.70192948, -0.67892646,  0.62788067],\n",
    "       [ 1.6163143 ,  0.10904024,  0.172866  ,  2.07392891,  0.9166984 ,\n",
    "         0.72032333, -0.61654133,  0.3757916 ,  0.330539  ,  0.84006191],\n",
    "       [-0.81789953, -0.84657951, -1.55897657, -0.46275441,  0.05571126,\n",
    "        -2.07063125, -0.32495521, -0.79838269, -0.02436165,  0.6087792 ]])"
   ]
  },
  {
   "cell_type": "code",
   "execution_count": 44,
   "metadata": {
    "collapsed": false
   },
   "outputs": [
    {
     "data": {
      "text/plain": [
       "array([[ 1.29975163, -1.69745263,  0.44266441, -0.20937311, -0.0391777 ,\n",
       "        -0.91786713,  2.43472698,  3.56308836,  3.10051257,  1.84857314],\n",
       "       [ 2.45889247, -2.97001206,  1.02683609, -0.71545785,  0.33575367,\n",
       "        -1.60404605,  3.62799634,  6.56253459,  5.07566703,  3.13411062],\n",
       "       [ 0.19161507, -1.12156699, -0.46216366, -0.17295685, -0.65892957,\n",
       "        -0.68653192,  1.23869278,  1.75752925,  0.87511428,  0.64399971],\n",
       "       [-1.65443495,  1.79127057, -0.74499045,  0.28239823, -0.40178571,\n",
       "         0.93186067, -2.65144895, -4.32525968, -3.32581125, -2.17080325],\n",
       "       [ 0.33095026, -0.20770796,  0.60583985, -0.11565068,  0.33258215,\n",
       "         0.06814082,  0.49144169,  0.93221456,  0.82264077,  0.43060632],\n",
       "       [-1.29933083,  2.49706047, -0.23883507,  0.41953297,  0.39187002,\n",
       "         1.30973314, -2.83837193, -4.59278565, -3.16955213, -2.43734614],\n",
       "       [ 0.61310821, -0.68094295,  0.72115587, -0.064671  ,  0.14725662,\n",
       "        -0.61177007,  1.03447059,  1.65657142,  1.36717441,  0.89357089],\n",
       "       [ 1.54882085, -2.19129799,  0.81470688, -0.22767278,  0.33339219,\n",
       "        -1.08621019,  2.52404122,  4.5653399 ,  3.31992443,  2.12049031],\n",
       "       [-1.32024285,  1.55085206, -0.46276843,  0.12690439,  0.41431575,\n",
       "         1.08534602, -2.24441397, -3.66143982, -2.83663446, -1.89517102],\n",
       "       [ 2.25465828, -2.58419024,  0.83992595, -0.39496295,  0.25629062,\n",
       "        -1.77261387,  3.54628098,  6.14421512,  5.05116443,  3.33615487]])"
      ]
     },
     "execution_count": 44,
     "metadata": {},
     "output_type": "execute_result"
    }
   ],
   "source": [
    "cheatA = np.linalg.inv(A)\n",
    "# np.dot(A,cheatA)\n",
    "cheatA"
   ]
  },
  {
   "cell_type": "code",
   "execution_count": 45,
   "metadata": {
    "collapsed": false
   },
   "outputs": [
    {
     "data": {
      "text/plain": [
       "array([[  1.00000000e+00,  -8.88178420e-15,   4.79616347e-14,\n",
       "          9.21485110e-15,   6.64607258e-14,   6.21724894e-15,\n",
       "          2.77555756e-15,   7.10542736e-15,   2.02615702e-15,\n",
       "         -1.77635684e-15],\n",
       "       [ -2.66453526e-15,   1.00000000e+00,   1.15463195e-14,\n",
       "         -4.66293670e-14,   3.83026943e-15,  -1.86517468e-14,\n",
       "          1.46549439e-14,  -1.99840144e-14,  -2.05530037e-14,\n",
       "         -6.01740879e-14],\n",
       "       [  1.07691633e-14,   8.21565038e-15,   1.00000000e+00,\n",
       "         -1.45439216e-14,  -1.14908083e-14,  -9.10382880e-15,\n",
       "          7.27196081e-15,  -1.05471187e-14,  -5.30131494e-15,\n",
       "         -2.26485497e-14],\n",
       "       [  4.44089210e-15,  -1.11022302e-14,  -1.42108547e-14,\n",
       "          1.00000000e+00,  -1.10605969e-14,   6.21724894e-15,\n",
       "         -2.66453526e-15,  -6.21724894e-15,   9.51322354e-15,\n",
       "          3.37507799e-14],\n",
       "       [ -9.21485110e-15,  -6.10622664e-16,   7.66053887e-15,\n",
       "         -1.01030295e-14,   1.00000000e+00,  -7.77156117e-16,\n",
       "          1.16573418e-15,  -2.66453526e-15,  -4.42354486e-15,\n",
       "         -5.44009282e-15],\n",
       "       [ -2.19824159e-14,  -2.08721929e-14,   1.77635684e-15,\n",
       "         -1.82076576e-14,   1.22124533e-15,   1.00000000e+00,\n",
       "         -2.88657986e-15,  -1.82076576e-14,   2.96984659e-15,\n",
       "          4.28546088e-14],\n",
       "       [  0.00000000e+00,   4.66293670e-15,   4.21884749e-15,\n",
       "         -2.72004641e-15,   4.17027524e-15,  -2.66453526e-15,\n",
       "          1.00000000e+00,   1.66533454e-15,  -3.42434414e-15,\n",
       "         -1.44328993e-14],\n",
       "       [  1.55431223e-15,   1.22124533e-14,   1.02140518e-14,\n",
       "         -1.14352972e-14,   8.03523914e-15,  -7.10542736e-15,\n",
       "          5.88418203e-15,   1.00000000e+00,  -1.02418074e-14,\n",
       "         -3.90798505e-14],\n",
       "       [ -2.44249065e-15,  -1.11022302e-14,  -8.88178420e-15,\n",
       "          3.77475828e-15,  -6.71684930e-15,   6.66133815e-15,\n",
       "         -3.66373598e-15,  -5.32907052e-15,   1.00000000e+00,\n",
       "          3.13082893e-14],\n",
       "       [  1.77635684e-15,   1.68753900e-14,   1.50990331e-14,\n",
       "         -5.99520433e-15,   1.30728761e-14,  -9.76996262e-15,\n",
       "          5.99520433e-15,   7.99360578e-15,  -1.15185639e-14,\n",
       "          1.00000000e+00]])"
      ]
     },
     "execution_count": 45,
     "metadata": {},
     "output_type": "execute_result"
    }
   ],
   "source": [
    "B = np.array([0.]*10)\n",
    "def forward(A,C):\n",
    "    Ai = A.copy()\n",
    "    Ci = C.copy()\n",
    "#     print Ci\n",
    "    row = Ai.shape[0]\n",
    "    for i in range(row):\n",
    "        for j in range(i+1,row):\n",
    "            Ci[j] = Ci[j] - Ai[j,i]/Ai[i,i]*Ci[i]\n",
    "            Ai[j,:] = Ai[j,:] - Ai[j,i]/Ai[i,i]*Ai[i,:]\n",
    "    return Ai,Ci\n",
    "\n",
    "def backward(A,C):\n",
    "    Ci = C.copy()\n",
    "    Ai = A.copy()\n",
    "    ans = np.zeros(Ci.shape)\n",
    "    for i in range(Ai.shape[0]-1,-1,-1):\n",
    "        csum = 0\n",
    "        for j in range(i+1,Ai.shape[0]):\n",
    "#             print i,j\n",
    "            csum += Ai[i,j]*ans[j]     \n",
    "        ans[i] = (Ci[i] - csum)/Ai[i,i]\n",
    "    return ans\n",
    "        \n",
    "ans = []\n",
    "# cans = []\n",
    "for i in range(len(A)):\n",
    "    B[i]=1\n",
    "    B[i-1]=0\n",
    "#     print A[1]\n",
    "#     print B\n",
    "    nA,nC = forward(A,B)       \n",
    "    aAns = backward(nA,nC)\n",
    "#     print aAns\n",
    "#     print np.linalg.solve(A,B)\n",
    "    ans.append(aAns.tolist())\n",
    "#     cans.append(np.linalg.solve(A,B).tolist())\n",
    "\n",
    "ans = np.array(ans).transpose()\n",
    "# cans = np.array(cans).transpose()\n",
    "\n",
    "# print ans\n",
    "# print cans\n",
    "# ans = np.array(ans)\n",
    "# ans.transpose()\n",
    "\n",
    "np.dot(ans,A)\n",
    "# t = np.array([[1,2],[3,4]])\n",
    "# print t.transpose()\n",
    "\n",
    "# ans = np.array(ans)\n",
    "# ans\n",
    "\n"
   ]
  },
  {
   "cell_type": "markdown",
   "metadata": {},
   "source": [
    "####3) Non linear equation I.\n",
    "Consider these equations.\n",
    "$$e^{\\frac{x-3}{2}} + 2y = 1$$\n",
    "$$x^2 + xy = 3$$"
   ]
  },
  {
   "cell_type": "markdown",
   "metadata": {},
   "source": [
    "####3.1) Draw Contour plot similar to the exercise that shows where the solutions are(There are three)."
   ]
  },
  {
   "cell_type": "code",
   "execution_count": 3,
   "metadata": {
    "collapsed": true
   },
   "outputs": [],
   "source": [
    "def u(x,y):\n",
    "    return math.exp((x-3)/2.)+2.*y-1\n",
    "\n",
    "def v(x,y):\n",
    "    return x**2. + x*y\n"
   ]
  },
  {
   "cell_type": "code",
   "execution_count": 1,
   "metadata": {
    "collapsed": false
   },
   "outputs": [
    {
     "ename": "NameError",
     "evalue": "name 'np' is not defined",
     "output_type": "error",
     "traceback": [
      "\u001b[0;31m---------------------------------------------------------------------------\u001b[0m",
      "\u001b[0;31mNameError\u001b[0m                                 Traceback (most recent call last)",
      "\u001b[0;32m<ipython-input-1-056819e64a3c>\u001b[0m in \u001b[0;36m<module>\u001b[0;34m()\u001b[0m\n\u001b[1;32m      4\u001b[0m \u001b[0mnx\u001b[0m \u001b[0;34m=\u001b[0m \u001b[0;36m200\u001b[0m\u001b[0;34m\u001b[0m\u001b[0m\n\u001b[1;32m      5\u001b[0m \u001b[0mny\u001b[0m \u001b[0;34m=\u001b[0m \u001b[0;36m200\u001b[0m\u001b[0;34m\u001b[0m\u001b[0m\n\u001b[0;32m----> 6\u001b[0;31m \u001b[0mx\u001b[0m \u001b[0;34m=\u001b[0m \u001b[0mnp\u001b[0m\u001b[0;34m.\u001b[0m\u001b[0mlinspace\u001b[0m\u001b[0;34m(\u001b[0m\u001b[0;34m-\u001b[0m\u001b[0;36m20\u001b[0m\u001b[0;34m,\u001b[0m\u001b[0;36m20\u001b[0m\u001b[0;34m,\u001b[0m\u001b[0mnx\u001b[0m\u001b[0;34m)\u001b[0m\u001b[0;34m\u001b[0m\u001b[0m\n\u001b[0m\u001b[1;32m      7\u001b[0m \u001b[0my\u001b[0m \u001b[0;34m=\u001b[0m \u001b[0mnp\u001b[0m\u001b[0;34m.\u001b[0m\u001b[0mlinspace\u001b[0m\u001b[0;34m(\u001b[0m\u001b[0;34m-\u001b[0m\u001b[0;36m20\u001b[0m\u001b[0;34m,\u001b[0m\u001b[0;36m20\u001b[0m\u001b[0;34m,\u001b[0m\u001b[0mny\u001b[0m\u001b[0;34m)\u001b[0m\u001b[0;34m\u001b[0m\u001b[0m\n\u001b[1;32m      8\u001b[0m \u001b[0mxgrid\u001b[0m\u001b[0;34m,\u001b[0m \u001b[0mygrid\u001b[0m \u001b[0;34m=\u001b[0m \u001b[0mnp\u001b[0m\u001b[0;34m.\u001b[0m\u001b[0mmeshgrid\u001b[0m\u001b[0;34m(\u001b[0m\u001b[0mx\u001b[0m\u001b[0;34m,\u001b[0m \u001b[0my\u001b[0m\u001b[0;34m)\u001b[0m\u001b[0;34m\u001b[0m\u001b[0m\n",
      "\u001b[0;31mNameError\u001b[0m: name 'np' is not defined"
     ]
    }
   ],
   "source": [
    "from mpl_toolkits.mplot3d import Axes3D\n",
    "from matplotlib import cm\n",
    "\n",
    "nx = 200\n",
    "ny = 200\n",
    "x = np.linspace(-20,20,nx)\n",
    "y = np.linspace(-20,20,ny)\n",
    "xgrid, ygrid = np.meshgrid(x, y)\n",
    "#print ygrid\n",
    "uz = np.zeros((nx,ny))\n",
    "vz = np.zeros((nx,ny))\n",
    "for ix in range(nx):\n",
    "    for iy in range(ny):\n",
    "        xx = x[ix]\n",
    "        yy = y[iy]\n",
    "        uz[iy,ix] = u(xx,yy) ##<<<<<<This is not a typo: [iy,ix]\n",
    "        vz[iy,ix] = v(xx,yy)\n",
    "\n",
    "\n",
    "ucs = plt.contour(x, y, uz, colors=('r'))\n",
    "plt.clabel(ucs, inline=1, fontsize=10)\n",
    "vcs = plt.contour(x, y, vz, colors=('b'))\n",
    "plt.clabel(vcs, inline=1, fontsize=10)\n",
    "plt.grid()"
   ]
  },
  {
   "cell_type": "markdown",
   "metadata": {},
   "source": [
    "#####3.2) Find all solutions. Using Newton's method. Make sure you start close to these points. If it doesnt' converge to the point you want, try moving the initial guess.\n",
    "\n",
    "Remember to plot to verify"
   ]
  },
  {
   "cell_type": "code",
   "execution_count": null,
   "metadata": {
    "collapsed": true
   },
   "outputs": [],
   "source": []
  },
  {
   "cell_type": "markdown",
   "metadata": {},
   "source": [
    "####4) Solving System Nonlinear Equations.\n",
    "Use Newton's method to solve this\n",
    "\n",
    "$$x + y + z = 6$$\n",
    "$$x^2 + y^2 + z^2 = 14$$\n",
    "$$x^3 + y^3 + z^3 = 36$$\n",
    "Use $x=1.0, y=0.0, z=-1.0$ as initial guess. (If you do it correctly your answer should be a permutation of 1,2,3)"
   ]
  },
  {
   "cell_type": "code",
   "execution_count": 33,
   "metadata": {
    "collapsed": true
   },
   "outputs": [],
   "source": [
    "def u(x,y,z):\n",
    "    return x+y+z-6\n",
    "def v(x,y,z):\n",
    "    return x**2+y**2+z**2-14\n",
    "def w(x,y,z):\n",
    "    return x**3+y**3+z**3-36\n",
    "\n",
    "def uX(x,y,z):\n",
    "    return 1.\n",
    "def uY(x,y,z):\n",
    "    return 1.\n",
    "def uZ(x,y,z):\n",
    "    return 1.\n",
    "\n",
    "def vX(x,y,z):\n",
    "    return 2.*x\n",
    "def vY(x,y,z):\n",
    "    return 2.*y\n",
    "def vZ(x,y,z):\n",
    "    return 2.*z\n",
    "\n",
    "def wX(x,y,z):\n",
    "    return 3.*x**2\n",
    "def wY(x,y,z):\n",
    "    return 3.*y**2\n",
    "def wZ(x,y,z):\n",
    "    return 3.*z**2\n"
   ]
  },
  {
   "cell_type": "code",
   "execution_count": 37,
   "metadata": {
    "collapsed": false
   },
   "outputs": [
    {
     "name": "stdout",
     "output_type": "stream",
     "text": [
      "[[  1.   1.   1.]\n",
      " [  2.   6.   4.]\n",
      " [  3.  27.  12.]] [   6.   28.  108.]\n",
      "1.0 3.0 2.0\n"
     ]
    }
   ],
   "source": [
    "# \n",
    "def newton2d(u,v,w,ux,uy,uz,vx,vy,vz,wx,wy,wz,x0,y0,z0):\n",
    "    for i in range(1):\n",
    "        C = np.array([-u(x0,y0,z0)+ux(x0,y0,z0)*x0+uy(x0,y0,z0)*y0+uz(x0,y0,z0)*z0,\n",
    "                      -v(x0,y0,z0)+vx(x0,y0,z0)*x0+vy(x0,y0,z0)*y0+vz(x0,y0,z0)*z0,\n",
    "                      -w(x0,y0,z0)+wx(x0,y0,z0)*x0+wy(x0,y0,z0)*y0+wz(x0,y0,z0)*z0])\n",
    "        A = np.array([[ux(x0,y0,z0),uy(x0,y0,z0),uz(x0,y0,z0)],\n",
    "                      [vx(x0,y0,z0),vy(x0,y0,z0),vz(x0,y0,z0)],\n",
    "                      [wx(x0,y0,z0),wy(x0,y0,z0),wz(x0,y0,z0)]])\n",
    "        print A,C\n",
    "        fA,fC = forward(A,C)\n",
    "        ans = backward(fA,fC)\n",
    "#         ans = np.linalg.solve(A,C)\n",
    "        x0,y0,z0 = ans[0],ans[1],ans[2]\n",
    "    \n",
    "    return x0,y0,z0\n",
    "  \n",
    "x,y,z =  newton2d(u,v,w,uX,uY,uZ,vX,vY,vZ,wX,wY,wZ,1.,3.,2.)\n",
    "print x,y,z"
   ]
  },
  {
   "cell_type": "markdown",
   "metadata": {},
   "source": [
    "####5) Iterative solution. Gauss-Siedel.\n",
    "\n",
    "Gaussian elimination is actually quite expensive (It's $O(n^3)$). This method is actually what people use for large($n>10000$) problem.\n",
    "\n",
    "The idea of the method is actually quite simple. Let us consider a 2 variables problem\n",
    "$$ 5x + y = 6 \\hspace{1in} \\text{Equation A}$$\n",
    "$$ x + 10y = 7 \\hspace{1in} \\text{Equation B}$$\n",
    "\n",
    "The method works by first guess a solution. It doesn't have to be correct Let us guess\n",
    "$$x_0 =1, y_0 =0$$\n",
    "\n",
    "Then, $x_1$ can be found by plugging $y_0$ into Equation A and solve for $$x_1$$\n",
    "\n",
    "$$ x_1 = \\frac{6 - y_0}{5} = 1.2 $$\n",
    "\n",
    "we can then use $x_1$ plug into Equation B and solve for $y_1$. (Notice that we don't use $x_0$ at all. There is a closely related method call Jacobi Method that does that)\n",
    "\n",
    "$$ y_1 = \\frac{7 - x_1}{6} = 0.58$$\n",
    "\n",
    "We then repeat the process and find $x_2$ from $y_1$. Then $y_2$ from $x_2$.\n",
    "\n",
    "$$ x_2 = \\frac{6 - y_1}{5} = 1.084 $$\n",
    "$$ y_2 = \\frac{7 - x_2}{10} = 0.5916 $$\n",
    "\n",
    "We can keep doing this. After 10 iterations, you will find that \n",
    "\n",
    "$$x_{10} = 1.08163265306, y_{10} = 0.591836734694$$\n",
    "which is exactly our solution.\n",
    "\n",
    "One can actually write this algorithm in matrix form(see wikipedia) but I won't ask you to do that. That's actually how it's implemented for generic set of equation.\n",
    "\n",
    "This method converges really fast for special type of matrix called *diagonally dominant* matrix which means the diagonal element is bigger than the sum of the rest of the row. This actually happens a lot in real world applications. This method can also be extended to non-linear equations but usually Newton's method is faster. \n",
    "\n",
    "That being said, this method doesn't even guarantee convergence for other type of matrices. You may not get to the solutions."
   ]
  },
  {
   "cell_type": "markdown",
   "metadata": {},
   "source": [
    "#####5.1) Solve this using Gauss-Siedel. No need to write a generic solver. Do it for 10 iterations. (Anything after 6 or 7 iteration is essentially the same)\n",
    "\n",
    "$$ 5x + y = 6$$\n",
    "$$ x + 10y = 7$$"
   ]
  },
  {
   "cell_type": "code",
   "execution_count": 38,
   "metadata": {
    "collapsed": false
   },
   "outputs": [
    {
     "name": "stdout",
     "output_type": "stream",
     "text": [
      "1.08163265306 0.591836734694\n"
     ]
    }
   ],
   "source": [
    "cx = 1\n",
    "cy = 0\n",
    "\n",
    "for i in range(10):\n",
    "    cx = (6-cy)/5.\n",
    "    cy = (7-cx)/10.\n",
    "print cx,cy"
   ]
  },
  {
   "cell_type": "markdown",
   "metadata": {},
   "source": [
    "#####5.2) Solve this using Gauss-Siedel Method. Again, no need to write a generic solver.\n",
    "\n",
    "$$ 5x + y + 2z = 1$$\n",
    "$$ x + 10y +4z= 2$$\n",
    "$$ x + 2y +7z= 3$$\n",
    "\n",
    "Print out x,y,z for each iteration and stop when the guess doesn't change much any more.\n",
    "\n",
    "Besure to check your answer against the given equation."
   ]
  },
  {
   "cell_type": "code",
   "execution_count": 42,
   "metadata": {
    "collapsed": false
   },
   "outputs": [
    {
     "name": "stdout",
     "output_type": "stream",
     "text": [
      "-0.4 -0.16 0.531428571429\n",
      "0.0194285714286 -0.0145142857143 0.429942857143\n",
      "0.0309257142857 0.0249302857143 0.417030530612\n",
      "0.0282017306122 0.0303676146939 0.415866148571\n",
      "0.0275800176327 0.0308955388082 0.41580412925\n",
      "0.0274992405383 0.0309284242461 0.415806272996\n",
      "0.0274918059525 0.0309283102065 0.415807367662\n",
      "1.00000207529\n",
      "2.00000437867\n",
      "3.0\n"
     ]
    }
   ],
   "source": [
    "cx = 1\n",
    "cy = 1\n",
    "cz = 1\n",
    "\n",
    "for i in range(7):\n",
    "    cx = (1-cy-2*cz)/5.\n",
    "    cy = (2-cx-4*cz)/10.\n",
    "    cz = (3-cx-2*cy)/7.\n",
    "    print cx,cy,cz\n",
    "    \n",
    "print 5*cx+cy+2*cz\n",
    "print cx+10*cy+4*cz\n",
    "print cx+2*cy+7*cz"
   ]
  },
  {
   "cell_type": "code",
   "execution_count": null,
   "metadata": {
    "collapsed": true
   },
   "outputs": [],
   "source": []
  }
 ],
 "metadata": {
  "kernelspec": {
   "display_name": "Python 2",
   "language": "python",
   "name": "python2"
  },
  "language_info": {
   "codemirror_mode": {
    "name": "ipython",
    "version": 2
   },
   "file_extension": ".py",
   "mimetype": "text/x-python",
   "name": "python",
   "nbconvert_exporter": "python",
   "pygments_lexer": "ipython2",
   "version": "2.7.10"
  }
 },
 "nbformat": 4,
 "nbformat_minor": 0
}
