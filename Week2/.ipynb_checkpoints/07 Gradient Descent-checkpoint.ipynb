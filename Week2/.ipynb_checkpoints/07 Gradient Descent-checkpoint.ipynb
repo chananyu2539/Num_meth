{
 "cells": [
  {
   "cell_type": "code",
   "execution_count": 1,
   "metadata": {
    "collapsed": true
   },
   "outputs": [],
   "source": [
    "%matplotlib inline\n",
    "import numpy as np\n",
    "import math\n",
    "from matplotlib import pyplot as plt"
   ]
  },
  {
   "cell_type": "markdown",
   "metadata": {},
   "source": [
    "##1D Gradient Descent"
   ]
  },
  {
   "cell_type": "markdown",
   "metadata": {},
   "source": [
    "1) Let us consider the function\n",
    "$$ f(x) = (x-2)^2 + 1 $$\n",
    "First plot it."
   ]
  },
  {
   "cell_type": "code",
   "execution_count": null,
   "metadata": {
    "collapsed": true
   },
   "outputs": [],
   "source": [
    "xs = np.linspace(-1,1,100)\n",
    "ys = [(x-2)**2+1 for x in xs]\n",
    "plt"
   ]
  },
  {
   "cell_type": "markdown",
   "metadata": {},
   "source": [
    "2) If we start at $x=4$, which way should we move and why?"
   ]
  },
  {
   "cell_type": "code",
   "execution_count": null,
   "metadata": {
    "collapsed": true
   },
   "outputs": [],
   "source": []
  },
  {
   "cell_type": "markdown",
   "metadata": {},
   "source": [
    "3)If the step size is constants = 1.1, what does the update rule look like?\n",
    "\n",
    "$$x_{n+1} = \\ldots$$"
   ]
  },
  {
   "cell_type": "code",
   "execution_count": null,
   "metadata": {
    "collapsed": true
   },
   "outputs": [],
   "source": []
  },
  {
   "cell_type": "markdown",
   "metadata": {},
   "source": [
    "4)Let try it with step size = 1.1. For 10 iteration. Print and plot your point as you go. Can you understand the behavior?"
   ]
  },
  {
   "cell_type": "code",
   "execution_count": null,
   "metadata": {
    "collapsed": true
   },
   "outputs": [],
   "source": []
  },
  {
   "cell_type": "markdown",
   "metadata": {},
   "source": [
    "5)Now let's try step size=0.01 for 100 iteration. Print and plot your point as you go. Can you understand the behavior?"
   ]
  },
  {
   "cell_type": "code",
   "execution_count": null,
   "metadata": {
    "collapsed": true
   },
   "outputs": [],
   "source": []
  },
  {
   "cell_type": "markdown",
   "metadata": {},
   "source": [
    "6) When do we want the step size to be small and when do you want the step size to be big?"
   ]
  },
  {
   "cell_type": "code",
   "execution_count": null,
   "metadata": {
    "collapsed": true
   },
   "outputs": [],
   "source": []
  },
  {
   "cell_type": "markdown",
   "metadata": {
    "collapsed": true
   },
   "source": [
    "7) What function kind of does that?"
   ]
  },
  {
   "cell_type": "code",
   "execution_count": null,
   "metadata": {
    "collapsed": true
   },
   "outputs": [],
   "source": []
  },
  {
   "cell_type": "markdown",
   "metadata": {
    "collapsed": true
   },
   "source": [
    "8)If we use that function, what does the update rule looks like."
   ]
  },
  {
   "cell_type": "code",
   "execution_count": null,
   "metadata": {
    "collapsed": true
   },
   "outputs": [],
   "source": []
  },
  {
   "cell_type": "markdown",
   "metadata": {
    "collapsed": true
   },
   "source": [
    "9) Try it with $\\lambda=0.1$. Print and Plot to see what happens?"
   ]
  },
  {
   "cell_type": "code",
   "execution_count": null,
   "metadata": {
    "collapsed": true
   },
   "outputs": [],
   "source": []
  },
  {
   "cell_type": "markdown",
   "metadata": {},
   "source": [
    "10) Try it with $\\lambda = 1.1$. For 4 iterations. Can you see how it goes?"
   ]
  },
  {
   "cell_type": "code",
   "execution_count": null,
   "metadata": {
    "collapsed": true
   },
   "outputs": [],
   "source": []
  },
  {
   "cell_type": "markdown",
   "metadata": {},
   "source": [
    "###Multi-Dimension Gradient Descent"
   ]
  },
  {
   "cell_type": "markdown",
   "metadata": {},
   "source": [
    "1) Let us consider the function.\n",
    "$$f(x,y) = (x-2)^2 + xy + 2y + 1$$\n",
    "Make the 3D plot."
   ]
  },
  {
   "cell_type": "code",
   "execution_count": null,
   "metadata": {
    "collapsed": false
   },
   "outputs": [],
   "source": [
    "from mpl_toolkits.mplot3d import Axes3D\n",
    "from matplotlib import cm\n",
    "#see matplotlib3d surface\n",
    "def f(x,y):\n",
    "    return (x-2)**2+x*y+y**2+1\n",
    "nx = 200\n",
    "ny = 200\n",
    "x = np.linspace(-20,20,nx)\n",
    "y = np.linspace(-20,20,ny)\n",
    "xgrid, ygrid = np.meshgrid(x, y)\n",
    "#print ygrid\n",
    "uz = np.zeros((nx,ny))\n",
    "for ix in range(nx):\n",
    "    for iy in range(ny):\n",
    "        xx = x[ix]\n",
    "        yy = y[iy]\n",
    "        uz[iy,ix] = f(xx,yy) ##<<<<<<This is not a typo: [iy,ix]\n",
    "        \n",
    "fig = plt.figure()\n",
    "ax = fig.add_subplot(111, projection='3d')\n",
    "plt.gca().view_init(elev=15., azim=30)\n",
    "ucs = ax.plot_surface(xgrid, ygrid, uz, cmap=cm.coolwarm)\n",
    "plt.title('f(x,y)')"
   ]
  },
  {
   "cell_type": "markdown",
   "metadata": {},
   "source": [
    "2) Plot the contour."
   ]
  },
  {
   "cell_type": "code",
   "execution_count": null,
   "metadata": {
    "collapsed": false
   },
   "outputs": [],
   "source": [
    "#see http://matplotlib.org/examples/pylab_examples/contour_demo.html\n",
    "def f(x,y):\n",
    "    return (x-2)**2+x*y+y**2+1\n",
    "\n",
    "nx = 200\n",
    "ny = 200\n",
    "x = np.linspace(-20,20,nx)\n",
    "y = np.linspace(-20,20,ny)\n",
    "xgrid, ygrid = np.meshgrid(x, y)\n",
    "#print ygrid\n",
    "uz = np.zeros((nx,ny))\n",
    "\n",
    "for ix in range(nx):\n",
    "    for iy in range(ny):\n",
    "        xx = x[ix]\n",
    "        yy = y[iy]\n",
    "        uz[iy,ix] = f(xx,yy) ##<<<<<<This is not a typo: [iy,ix]\n",
    "\n",
    "ucs = plt.contour(x, y, uz, [2,10,50,100,200,400,500], cmap=cm.brg)\n",
    "plt.clabel(ucs, inline=1, fontsize=10)\n",
    "plt.grid()\n",
    "plt.title('f(x,y)')"
   ]
  },
  {
   "cell_type": "markdown",
   "metadata": {},
   "source": [
    "3)Where do you think the minimum is?"
   ]
  },
  {
   "cell_type": "code",
   "execution_count": null,
   "metadata": {
    "collapsed": true
   },
   "outputs": [],
   "source": []
  },
  {
   "cell_type": "markdown",
   "metadata": {},
   "source": [
    "4)What is the gradient at (10,-15)? Use plt.arrow to plot arrow."
   ]
  },
  {
   "cell_type": "code",
   "execution_count": null,
   "metadata": {
    "collapsed": false
   },
   "outputs": [],
   "source": [
    "plt.arrow(0,0,1,1,head_width=0.1, head_length=0.1,fc='k',ec='k')\n",
    "plt.xlim(0,2)\n",
    "plt.ylim(0,2)"
   ]
  },
  {
   "cell_type": "code",
   "execution_count": null,
   "metadata": {
    "collapsed": true
   },
   "outputs": [],
   "source": []
  },
  {
   "cell_type": "markdown",
   "metadata": {},
   "source": [
    "5) If we want to minimize the function which way should we go? Find the unit vector in that direction."
   ]
  },
  {
   "cell_type": "code",
   "execution_count": null,
   "metadata": {
    "collapsed": true
   },
   "outputs": [],
   "source": []
  },
  {
   "cell_type": "markdown",
   "metadata": {},
   "source": [
    "6) What should your update rule look like? Use vector addition."
   ]
  },
  {
   "cell_type": "code",
   "execution_count": null,
   "metadata": {
    "collapsed": true
   },
   "outputs": [],
   "source": []
  },
  {
   "cell_type": "markdown",
   "metadata": {},
   "source": [
    "7) Use what we learn in 1D. How far should we go? What should the update rule really look like?"
   ]
  },
  {
   "cell_type": "code",
   "execution_count": null,
   "metadata": {
    "collapsed": true
   },
   "outputs": [],
   "source": []
  },
  {
   "cell_type": "markdown",
   "metadata": {},
   "source": [
    "8) Use $\\lambda = 0.1$ and see where the points go"
   ]
  },
  {
   "cell_type": "code",
   "execution_count": null,
   "metadata": {
    "collapsed": true
   },
   "outputs": [],
   "source": []
  },
  {
   "cell_type": "markdown",
   "metadata": {},
   "source": [
    "###Linear Regression Revisited"
   ]
  },
  {
   "cell_type": "markdown",
   "metadata": {},
   "source": [
    "Let us consider the problem of findind a line that pass through the points."
   ]
  },
  {
   "cell_type": "code",
   "execution_count": 18,
   "metadata": {
    "collapsed": false
   },
   "outputs": [
    {
     "data": {
      "text/plain": [
       "[<matplotlib.lines.Line2D at 0x1083c36d0>]"
      ]
     },
     "execution_count": 18,
     "metadata": {},
     "output_type": "execute_result"
    },
    {
     "data": {
      "image/png": "[encoded data removed]",
      "text/plain": [
       "<matplotlib.figure.Figure at 0x10876e790>"
      ]
     },
     "metadata": {},
     "output_type": "display_data"
    }
   ],
   "source": [
    "np.random.seed(123)\n",
    "n = 100\n",
    "x = np.linspace(0,1,n)\n",
    "y = -2*x + 1 + np.random.randn(n)/2\n",
    "plt.plot(x,y,'.r')"
   ]
  },
  {
   "cell_type": "markdown",
   "metadata": {},
   "source": [
    "1) What exactly are we trying to minimize and why?"
   ]
  },
  {
   "cell_type": "code",
   "execution_count": null,
   "metadata": {
    "collapsed": true
   },
   "outputs": [],
   "source": []
  },
  {
   "cell_type": "markdown",
   "metadata": {},
   "source": [
    "2) Minimize and Visualize it."
   ]
  },
  {
   "cell_type": "code",
   "execution_count": null,
   "metadata": {
    "collapsed": true
   },
   "outputs": [],
   "source": []
  },
  {
   "cell_type": "markdown",
   "metadata": {},
   "source": [
    "###Separating Line."
   ]
  },
  {
   "cell_type": "markdown",
   "metadata": {},
   "source": [
    "We want to draw a separating line betwen two datasets shown below."
   ]
  },
  {
   "cell_type": "code",
   "execution_count": 33,
   "metadata": {
    "collapsed": false
   },
   "outputs": [],
   "source": [
    "np.random.seed(234)\n",
    "n1 = 100\n",
    "n2 = 100\n",
    "mean = [0, 0]\n",
    "cov = [[1, -0.5], [-0.5, 1]]\n",
    "r1, r2 = np.random.multivariate_normal(mean, cov, n1).T\n",
    "#plt.plot(r1, r2, '.r')\n",
    "\n",
    "mean = [2, 2]\n",
    "cov = [[1, 0], [0, 1]]\n",
    "b1, b2 = np.random.multivariate_normal(mean, cov, n2).T\n",
    "#plt.plot(b1, b2, '.b')\n",
    "\n",
    "c = np.zeros(n1+n2)\n",
    "c[:n1] = 1.\n",
    "c[n1:] = 0.\n",
    "#print c\n",
    "\n",
    "d = np.zeros((n1+n2,2))\n",
    "d[:n1,0] = r1\n",
    "d[:n1,1] = r2\n",
    "d[n1:,0] = b1\n",
    "d[n1:,1] = b2"
   ]
  },
  {
   "cell_type": "code",
   "execution_count": 34,
   "metadata": {
    "collapsed": false
   },
   "outputs": [
    {
     "data": {
      "text/plain": [
       "[<matplotlib.lines.Line2D at 0x108aba210>]"
      ]
     },
     "execution_count": 34,
     "metadata": {},
     "output_type": "execute_result"
    },
    {
     "data": {
      "image/png": "[encoded data removed]",
      "text/plain": [
       "<matplotlib.figure.Figure at 0x108aba910>"
      ]
     },
     "metadata": {},
     "output_type": "display_data"
    }
   ],
   "source": [
    "plt.plot(d[c==1,0], d[c==1,1],'.r')#note boolean indexing\n",
    "plt.plot(d[c==0,0], d[c==0,1],'.b')#note boolean indexing"
   ]
  },
  {
   "cell_type": "markdown",
   "metadata": {},
   "source": [
    "1) How can we model this as a optimization problem?"
   ]
  },
  {
   "cell_type": "code",
   "execution_count": null,
   "metadata": {
    "collapsed": true
   },
   "outputs": [],
   "source": []
  },
  {
   "cell_type": "markdown",
   "metadata": {},
   "source": [
    "2) What equation do we plot?"
   ]
  },
  {
   "cell_type": "code",
   "execution_count": null,
   "metadata": {
    "collapsed": true
   },
   "outputs": [],
   "source": []
  },
  {
   "cell_type": "markdown",
   "metadata": {},
   "source": [
    "3) Minimize and plot it to see that you get the right line."
   ]
  },
  {
   "cell_type": "code",
   "execution_count": 36,
   "metadata": {
    "collapsed": false
   },
   "outputs": [
    {
     "name": "stdout",
     "output_type": "stream",
     "text": [
      "[[ 1.         -1.23086966  0.18731902]\n",
      " [ 1.          0.15690022  0.76467807]\n",
      " [ 1.         -1.48876741 -1.64011723]\n",
      " [ 1.          1.30714602 -0.37248023]\n",
      " [ 1.          0.67461839  0.75059711]\n",
      " [ 1.          0.94584269 -0.01901824]\n",
      " [ 1.          1.65971858 -0.56346172]\n",
      " [ 1.          1.91304992 -1.43409072]\n",
      " [ 1.         -1.25215912  1.07673845]\n",
      " [ 1.         -0.37260327 -0.51585145]\n",
      " [ 1.          0.71465901  0.19371616]\n",
      " [ 1.         -0.10270834 -1.22090529]\n",
      " [ 1.         -1.30358744  1.60276889]\n",
      " [ 1.          0.42723536  0.61684556]\n",
      " [ 1.         -0.2558605   0.00338542]\n",
      " [ 1.         -0.48066857  0.98644225]\n",
      " [ 1.         -0.2691181   0.41096303]\n",
      " [ 1.          1.3099536  -0.67015697]\n",
      " [ 1.          0.28005885 -0.74420921]\n",
      " [ 1.          1.34634767 -0.03558485]]\n"
     ]
    }
   ],
   "source": [
    "#this is how you make a padded array\n",
    "nr, nc = d.shape\n",
    "pd = np.zeros((nr,nc+1))\n",
    "pd[:,1:] = d\n",
    "pd[:,0] =  1.0\n",
    "print pd[:20]"
   ]
  },
  {
   "cell_type": "code",
   "execution_count": null,
   "metadata": {
    "collapsed": true
   },
   "outputs": [],
   "source": []
  }
 ],
 "metadata": {
  "kernelspec": {
   "display_name": "Python 2",
   "language": "python",
   "name": "python2"
  },
  "language_info": {
   "codemirror_mode": {
    "name": "ipython",
    "version": 2
   },
   "file_extension": ".py",
   "mimetype": "text/x-python",
   "name": "python",
   "nbconvert_exporter": "python",
   "pygments_lexer": "ipython2",
   "version": "2.7.10"
  }
 },
 "nbformat": 4,
 "nbformat_minor": 0
}
