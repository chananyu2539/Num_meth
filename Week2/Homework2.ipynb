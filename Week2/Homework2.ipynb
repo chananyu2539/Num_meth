{
 "cells": [
  {
   "cell_type": "code",
   "execution_count": 2,
   "metadata": {
    "collapsed": false
   },
   "outputs": [],
   "source": [
    "%matplotlib inline\n",
    "import math\n",
    "import numpy as np\n",
    "from matplotlib import pyplot as plt"
   ]
  },
  {
   "cell_type": "markdown",
   "metadata": {},
   "source": [
    "0) Finish the implementation of false positon method. Use it to find the solution for $\\sin(x) + 1 = x$ do it 20 times."
   ]
  },
  {
   "cell_type": "code",
   "execution_count": null,
   "metadata": {
    "collapsed": true
   },
   "outputs": [],
   "source": []
  },
  {
   "cell_type": "markdown",
   "metadata": {},
   "source": [
    "1) Give me the solution to $x = e^{-x}$ that is $10^{-6}$ using bisection method.\n",
    "\n",
    "Pick the initial bound from the following and explain why you can't pick the other one.\n",
    "Bound A: (-1,0), Bound B (0,1)"
   ]
  },
  {
   "cell_type": "code",
   "execution_count": 3,
   "metadata": {
    "collapsed": false
   },
   "outputs": [
    {
     "name": "stdout",
     "output_type": "stream",
     "text": [
      "0.567143440247\n"
     ]
    }
   ],
   "source": [
    "def f(x):\n",
    "    return math.exp(-x)-x\n",
    "def check_sign(yo,yt):\n",
    "    return f(yo) * f(yt) < 0\n",
    "\n",
    "def pass_error(x,limit):\n",
    "    return math.fabs(f(x)) < limit\n",
    "\n",
    "def find_x(x0,x1,limit):\n",
    "    x = (x0+x1)/2\n",
    "#     print f(x)\n",
    "    if(pass_error(x,limit)):\n",
    "        return x   \n",
    "    else:\n",
    "        if(check_sign(x,x0)):\n",
    "            return find_x(x0,x,limit)\n",
    "        else:\n",
    "            return find_x(x,x1,limit)\n",
    "\n",
    "ans= find_x(0,1.,10**(-6))\n",
    "print ans\n"
   ]
  },
  {
   "cell_type": "markdown",
   "metadata": {},
   "source": [
    "-1 actually give more value than 0"
   ]
  },
  {
   "cell_type": "markdown",
   "metadata": {},
   "source": [
    "2) Find all value of $x \\in [0,1]$ such that $f(x)=0$ for\n",
    "\n",
    "$f(x) = -0.000216747 + 0.0072868 x - 0.0977383 x^2 + 0.664685 x^3 - \n",
    " 2.40773 x^4 + 4.46766 x^5 - 3.7091 x^6 + x^7$\n",
    " \n",
    "Make sure your answers are at most $10^{-6}$ away from the real solution."
   ]
  },
  {
   "cell_type": "code",
   "execution_count": null,
   "metadata": {
    "collapsed": true
   },
   "outputs": [],
   "source": []
  },
  {
   "cell_type": "code",
   "execution_count": 4,
   "metadata": {
    "collapsed": false
   },
   "outputs": [
    {
     "data": {
      "text/plain": [
       "<matplotlib.lines.Line2D at 0x10bc8fc90>"
      ]
     },
     "execution_count": 4,
     "metadata": {},
     "output_type": "execute_result"
    },
    {
     "data": {
      "image/png": "[encoded data removed]",
      "text/plain": [
       "<matplotlib.figure.Figure at 0x10bcab5d0>"
      ]
     },
     "metadata": {},
     "output_type": "display_data"
    }
   ],
   "source": [
    "xs = np.linspace(-2,3,100)\n",
    "def f(x):\n",
    "    return -0.000216747 + 0.0072868*x - 0.0977383*x**2 + 0.664685*x**3 - \\\n",
    "            2.40773*x**4 + 4.46766*x**5 - 3.7091*x**6 + x**7\n",
    "# def nf(x):\n",
    "#     return (0.000216747 + 0.0977383*x**2 - 0.664685*x**3 + \\\n",
    "#             2.40773*x**4 - 4.46766*x**5 + 3.7091*x**6 - x**7)/0.0072868\n",
    "ys = [f(x) for x in xs]\n",
    "plt.plot(xs,ys)\n",
    "plt.axhline(0,c='r')"
   ]
  },
  {
   "cell_type": "code",
   "execution_count": 5,
   "metadata": {
    "collapsed": false
   },
   "outputs": [
    {
     "data": {
      "text/plain": [
       "(-1e-05, 1e-05)"
      ]
     },
     "execution_count": 5,
     "metadata": {},
     "output_type": "execute_result"
    },
    {
     "data": {
      "image/png": "[encoded data removed]",
      "text/plain": [
       "<matplotlib.figure.Figure at 0x10bc8ff90>"
      ]
     },
     "metadata": {},
     "output_type": "display_data"
    }
   ],
   "source": [
    "plt.plot(xs,ys)\n",
    "plt.axhline(0,c='r')\n",
    "plt.xlim(0,2.3)\n",
    "plt.ylim(-1e-5,1e-5)"
   ]
  },
  {
   "cell_type": "code",
   "execution_count": 6,
   "metadata": {
    "collapsed": false
   },
   "outputs": [],
   "source": [
    "def pass_error(x,limit):\n",
    "    return math.fabs(f(x)) < limit\n",
    "\n",
    "def find_x(x0,x1,limit):\n",
    "    x = (x0+x1)/2\n",
    "    if(pass_error(x,limit)):\n",
    "        return x   \n",
    "    else:\n",
    "        if(check_sign(x,x0)):\n",
    "            return find_x(x0,x,limit)\n",
    "        else:\n",
    "            return find_x(x,x1,limit)\n",
    "ans_lst = []\n",
    "\n",
    "ans= find_x(0.1,0.15,1e-6)\n",
    "# print ans\n",
    "ans_lst.append(ans)\n",
    "\n",
    "ans= find_x(0.15,0.25,1e-6)\n",
    "# print ans\n",
    "ans_lst.append(ans)\n",
    "\n",
    "ans= find_x(0.333,0.5,1e-6)\n",
    "# print ans\n",
    "ans_lst.append(ans)\n",
    "\n",
    "ans= find_x(0.5,1,1e-6)\n",
    "# print ans\n",
    "ans_lst.append(ans)\n",
    "\n",
    "# ans = find_x(1,2.5,1e-6)\n",
    "# # print ans\n",
    "# ans_lst.append(ans)\n",
    "\n"
   ]
  },
  {
   "cell_type": "code",
   "execution_count": 7,
   "metadata": {
    "collapsed": false
   },
   "outputs": [
    {
     "name": "stdout",
     "output_type": "stream",
     "text": [
      "[0.125, 0.225, 0.3343046875, 0.785400390625]\n"
     ]
    }
   ],
   "source": [
    "print ans_lst"
   ]
  },
  {
   "cell_type": "markdown",
   "metadata": {},
   "source": [
    "2.1) Find all the local minima and maxima of the above function. How do you figure out whether it is a local maximum or local minimum"
   ]
  },
  {
   "cell_type": "code",
   "execution_count": 8,
   "metadata": {
    "collapsed": false
   },
   "outputs": [
    {
     "data": {
      "text/plain": [
       "(-2.5, 0.1)"
      ]
     },
     "execution_count": 8,
     "metadata": {},
     "output_type": "execute_result"
    },
    {
     "data": {
      "image/png": "[encoded data removed]",
      "text/plain": [
       "<matplotlib.figure.Figure at 0x10bec55d0>"
      ]
     },
     "metadata": {},
     "output_type": "display_data"
    }
   ],
   "source": [
    "plt.plot(xs,ys)\n",
    "plt.axhline(0,c='r')\n",
    "plt.xlim(-0.7,2.3)\n",
    "plt.ylim(-2.5,0.1)"
   ]
  },
  {
   "cell_type": "code",
   "execution_count": 9,
   "metadata": {
    "collapsed": false
   },
   "outputs": [
    {
     "data": {
      "text/plain": [
       "(-1e-05, 1e-05)"
      ]
     },
     "execution_count": 9,
     "metadata": {},
     "output_type": "execute_result"
    },
    {
     "data": {
      "image/png": "[encoded data removed]",
      "text/plain": [
       "<matplotlib.figure.Figure at 0x10bf19910>"
      ]
     },
     "metadata": {},
     "output_type": "display_data"
    }
   ],
   "source": [
    "plt.plot(xs,ys)\n",
    "plt.axhline(0,c='r')\n",
    "plt.xlim(0,0.4)\n",
    "plt.ylim(-1e-5,1e-5)"
   ]
  },
  {
   "cell_type": "code",
   "execution_count": 10,
   "metadata": {
    "collapsed": false
   },
   "outputs": [
    {
     "data": {
      "text/plain": [
       "(-0.01, 0.01)"
      ]
     },
     "execution_count": 10,
     "metadata": {},
     "output_type": "execute_result"
    },
    {
     "data": {
      "image/png": "[encoded data removed]",
      "text/plain": [
       "<matplotlib.figure.Figure at 0x10bea9910>"
      ]
     },
     "metadata": {},
     "output_type": "display_data"
    }
   ],
   "source": [
    "plt.plot(xs,ys)\n",
    "plt.axhline(0,c='r')\n",
    "plt.xlim(0.65,0.9)\n",
    "plt.ylim(-1e-2,1e-2)"
   ]
  },
  {
   "cell_type": "code",
   "execution_count": 11,
   "metadata": {
    "collapsed": false
   },
   "outputs": [
    {
     "name": "stdout",
     "output_type": "stream",
     "text": [
      "[0.19140625, 0.2971581726074219, 0.6817810865044593]\n"
     ]
    }
   ],
   "source": [
    "def df(x):\n",
    "    return  0.0072868 - 0.0977383*2*x + 0.664685*3*x**2 - \\\n",
    "            2.40773*4*x**3 + 4.46766*5*x**4 - 3.7091*6*x**5 + 7*x**6\n",
    "    \n",
    "def ddf(x):\n",
    "    return  - 2*0.0977383 + 3*2*0.664685*x - 4*3*2.40773*x**2 + 5*4*4.46766*x**3 - 6*5*3.7091*x**4 + 7*6*x**5\n",
    "\n",
    "def check_sign(yo,yt):\n",
    "    return df(yo) * df(yt) < 0\n",
    "def pass_error(x,limit):\n",
    "    return np.abs(df(x)) <= limit\n",
    "\n",
    "def find_dx(x0,x1,limit):\n",
    "    x = (x0+x1)/2.\n",
    "    if(pass_error(x,limit)):\n",
    "        return x   \n",
    "    else:\n",
    "        if(check_sign(x,x0)):\n",
    "            return find_x(x0,x,limit)\n",
    "        else:\n",
    "            return find_x(x,x1,limit)\n",
    "\n",
    "i = 0\n",
    "minmax = []\n",
    "while i < len(ans_lst)-1:\n",
    "    minmax.append(find_dx(ans_lst[i],ans_lst[i+1],1e-6))\n",
    "    i+=1\n",
    "print minmax"
   ]
  },
  {
   "cell_type": "code",
   "execution_count": null,
   "metadata": {
    "collapsed": true
   },
   "outputs": [],
   "source": []
  },
  {
   "cell_type": "markdown",
   "metadata": {},
   "source": [
    "2.2) What is the `global maximum` and `global minimum` of the function above within the range $x\\in[0,1]$"
   ]
  },
  {
   "cell_type": "code",
   "execution_count": null,
   "metadata": {
    "collapsed": true
   },
   "outputs": [],
   "source": []
  },
  {
   "cell_type": "markdown",
   "metadata": {},
   "source": [
    "3) Suppose you are saving up your money for your new phone which costs 15000 Baht.  You save 1k every month and spend the rest. The `yearly` interest rate is 2% the interest is paid continously(you get interest paid to your account every microsecond). How long do you need to wait. Your answer should not be more than one second away from the real answer."
   ]
  },
  {
   "cell_type": "code",
   "execution_count": 12,
   "metadata": {
    "collapsed": false
   },
   "outputs": [
    {
     "name": "stdout",
     "output_type": "stream",
     "text": [
      "3.1104e+13 2.592e+12\n"
     ]
    }
   ],
   "source": [
    "year_micro = 12*30*24*60*60*1e6\n",
    "month_micro = 30*24*60*60*1e6\n",
    "print year_micro,month_micro\n",
    "\n"
   ]
  },
  {
   "cell_type": "code",
   "execution_count": null,
   "metadata": {
    "collapsed": false
   },
   "outputs": [],
   "source": []
  },
  {
   "cell_type": "code",
   "execution_count": null,
   "metadata": {
    "collapsed": true
   },
   "outputs": [],
   "source": []
  },
  {
   "cell_type": "code",
   "execution_count": null,
   "metadata": {
    "collapsed": true
   },
   "outputs": [],
   "source": []
  },
  {
   "cell_type": "markdown",
   "metadata": {},
   "source": [
    "Money after 1 micro = 1.02(1000)\n",
    "\n",
    "Money after 2 micro = 1.02(1.02(1000))\n",
    "\n",
    "Money after n micro = $1.02^n(1000)$"
   ]
  },
  {
   "cell_type": "code",
   "execution_count": null,
   "metadata": {
    "collapsed": true
   },
   "outputs": [],
   "source": []
  },
  {
   "cell_type": "markdown",
   "metadata": {},
   "source": [
    "4) Full Width at Half Maximum(FWHM). Distribution width is a very important quantity. It tells you how wide a function is. One way to do that is to use a quantity called full-width half max.\n",
    "\n",
    "This is the width of the distribution at half maximum. \n",
    "\n",
    "For example for distribution shown below the maximum is at x=0.0 and y=1.0\n",
    "\n",
    "The maximum of this distribution is 1.0. So we are interested in the width of the distribution when the value of the distribution is 1.0/2=0.5\n",
    "\n",
    "The width of the distribution is shown in black line. In this case it's about 2.35"
   ]
  },
  {
   "cell_type": "code",
   "execution_count": 13,
   "metadata": {
    "collapsed": false
   },
   "outputs": [
    {
     "data": {
      "text/plain": [
       "<matplotlib.text.Text at 0x10be9c2d0>"
      ]
     },
     "execution_count": 13,
     "metadata": {},
     "output_type": "execute_result"
    },
    {
     "data": {
      "image/png": "[encoded data removed]",
      "text/plain": [
       "<matplotlib.figure.Figure at 0x10beb4490>"
      ]
     },
     "metadata": {},
     "output_type": "display_data"
    }
   ],
   "source": [
    "import math\n",
    "def demo(x):\n",
    "    return math.exp(-x**2/2.0)\n",
    "x = np.linspace(-3,3)\n",
    "y = [demo(xx) for xx in x]\n",
    "plt.plot(x,y)\n",
    "plt.axhline(0.5, color='red')\n",
    "\n",
    "plt.axvline(2.355/2,color='red',linestyle='dashed')\n",
    "plt.axvline(-2.355/2,color='red',linestyle='dashed')\n",
    "\n",
    "plt.grid()\n",
    "plt.annotate(\n",
    "    '', xy=(-2.355/2, 0.4), xycoords='data',\n",
    "    xytext=(2.355/2, 0.4), textcoords='data',\n",
    "    arrowprops={'arrowstyle': '<->'})\n",
    "plt.text(0,0.3,'FWHM',horizontalalignment ='center')"
   ]
  },
  {
   "cell_type": "markdown",
   "metadata": {},
   "source": [
    "4.1)Find FWHM of the following function. Make sure the bound on error of the FWHM is less than $10^{-4}$."
   ]
  },
  {
   "cell_type": "code",
   "execution_count": 14,
   "metadata": {
    "collapsed": false
   },
   "outputs": [
    {
     "data": {
      "text/plain": [
       "[<matplotlib.lines.Line2D at 0x10bcd9110>]"
      ]
     },
     "execution_count": 14,
     "metadata": {},
     "output_type": "execute_result"
    },
    {
     "data": {
      "image/png": "[encoded data removed]",
      "text/plain": [
       "<matplotlib.figure.Figure at 0x10bec5850>"
      ]
     },
     "metadata": {},
     "output_type": "display_data"
    }
   ],
   "source": [
    "import math\n",
    "def f(x, gamma=3.1):\n",
    "    mu = 2.345\n",
    "    return gamma/((x-mu)**2+gamma**2)\n",
    "x = np.linspace(-10,10,200)\n",
    "y = [f(xx) for xx in x]\n",
    "plt.plot(x,y)"
   ]
  },
  {
   "cell_type": "code",
   "execution_count": 15,
   "metadata": {
    "collapsed": false
   },
   "outputs": [
    {
     "name": "stdout",
     "output_type": "stream",
     "text": [
      "0.161290296356\n"
     ]
    }
   ],
   "source": [
    "def df(x,gamma=3.1):\n",
    "    mu = 2.345\n",
    "    return -(gamma*2*(x-mu))/(((x-mu)**2+gamma**2)**2)\n",
    "def check_sign(yo,yt):\n",
    "    return df(yo) * df(yt) < 0\n",
    "\n",
    "def pass_error(x,limit):\n",
    "    return np.abs(df(x)) < limit\n",
    "\n",
    "def find_x(x0,x1,limit):\n",
    "    x = (x0+x1)/2\n",
    "#     print df(x)\n",
    "    if(pass_error(x,limit)):\n",
    "        return x   \n",
    "    else:\n",
    "        if(check_sign(x,x0)):\n",
    "            return find_x(x0,x,limit)\n",
    "        else:\n",
    "            return find_x(x,x1,limit)\n",
    "\n",
    "maxy = f(find_x(0,5.,1e-4))\n",
    "midy = maxy/2.\n",
    "print midy\n"
   ]
  },
  {
   "cell_type": "code",
   "execution_count": 16,
   "metadata": {
    "collapsed": false
   },
   "outputs": [
    {
     "name": "stdout",
     "output_type": "stream",
     "text": [
      "6.19942353633\n"
     ]
    }
   ],
   "source": [
    "def f(x, gamma=3.1,y = midy):\n",
    "    mu = 2.345\n",
    "    return gamma/((x-mu)**2+gamma**2) - y\n",
    "def check_sign(yo,yt):\n",
    "    return f(yo) * f(yt) < 0\n",
    "\n",
    "def pass_error(x,limit):\n",
    "    return np.abs(f(x)) < limit\n",
    "def find_x(x0,x1,limit):\n",
    "    x = (x0+x1)/2\n",
    "#     print f(x)\n",
    "    if(pass_error(x,limit)):\n",
    "        return x   \n",
    "    else:\n",
    "        if(check_sign(x,x0)):\n",
    "            return find_x(x0,x,limit)\n",
    "        else:\n",
    "            return find_x(x,x1,limit)\n",
    "m1 = find_x(-3,maxy,1e-4)\n",
    "m2 = find_x(maxy,7,1e-4)\n",
    "print m2-m1\n"
   ]
  },
  {
   "cell_type": "code",
   "execution_count": 17,
   "metadata": {
    "collapsed": false
   },
   "outputs": [
    {
     "data": {
      "text/plain": [
       "<matplotlib.text.Text at 0x10c1359d0>"
      ]
     },
     "execution_count": 17,
     "metadata": {},
     "output_type": "execute_result"
    },
    {
     "data": {
      "image/png": "[encoded data removed]",
      "text/plain": [
       "<matplotlib.figure.Figure at 0x10bee0fd0>"
      ]
     },
     "metadata": {},
     "output_type": "display_data"
    }
   ],
   "source": [
    "plt.plot(x,y)\n",
    "plt.axhline(midy, color='red')\n",
    "plt.axvline(m1,color='red',linestyle='dashed')\n",
    "plt.axvline(m2,color='red',linestyle='dashed')\n",
    "plt.grid()\n",
    "plt.annotate(\n",
    "    '', xy=(m1, 0.13), xycoords='data',\n",
    "    xytext=(m2, 0.13), textcoords='data',\n",
    "    arrowprops={'arrowstyle': '<->'})\n",
    "plt.text(2,0.10,'FWHM',horizontalalignment ='center')\n"
   ]
  },
  {
   "cell_type": "markdown",
   "metadata": {},
   "source": [
    "4.2) Plot FWHM(y-axis) as a function of $\\gamma$(gamma) from $\\gamma=0.5\\ldots 3$. Make sure you have at least 30 points."
   ]
  },
  {
   "cell_type": "code",
   "execution_count": 37,
   "metadata": {
    "collapsed": false
   },
   "outputs": [
    {
     "name": "stdout",
     "output_type": "stream",
     "text": [
      "0.108165114047\n"
     ]
    }
   ],
   "source": [
    "print f(1.0, gamma=0.2) # you may find this useful"
   ]
  },
  {
   "cell_type": "code",
   "execution_count": 60,
   "metadata": {
    "collapsed": true
   },
   "outputs": [],
   "source": []
  },
  {
   "cell_type": "code",
   "execution_count": null,
   "metadata": {
    "collapsed": true
   },
   "outputs": [],
   "source": []
  }
 ],
 "metadata": {
  "kernelspec": {
   "display_name": "Python 2",
   "language": "python",
   "name": "python2"
  },
  "language_info": {
   "codemirror_mode": {
    "name": "ipython",
    "version": 2
   },
   "file_extension": ".py",
   "mimetype": "text/x-python",
   "name": "python",
   "nbconvert_exporter": "python",
   "pygments_lexer": "ipython2",
   "version": "2.7.10"
  }
 },
 "nbformat": 4,
 "nbformat_minor": 0
}
