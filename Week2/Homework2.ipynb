{
 "cells": [
  {
   "cell_type": "code",
   "execution_count": 2,
   "metadata": {
    "collapsed": false
   },
   "outputs": [],
   "source": [
    "%matplotlib inline\n",
    "import math\n",
    "import numpy as np\n",
    "from matplotlib import pyplot as plt"
   ]
  },
  {
   "cell_type": "markdown",
   "metadata": {},
   "source": [
    "0) Finish the implementation of false positon method. Use it to find the solution for $\\sin(x) + 1 = x$ do it 20 times."
   ]
  },
  {
   "cell_type": "code",
   "execution_count": 16,
   "metadata": {
    "collapsed": true
   },
   "outputs": [],
   "source": [
    "# def f(x):\n",
    "#     return math.sin(x)+1-x\n",
    "\n",
    "\n",
    "# def find_x(x0,x1,limit):\n",
    "#     x = (x0+x1)/2\n",
    "#     if(pass_error(x,limit)):\n",
    "#         return x   \n",
    "#     else:\n",
    "#         if(check_sign(x,x0)):\n",
    "#             return find_x(x0,x,limit)\n",
    "#         else:\n",
    "#             return find_x(x,x1,limit)\n",
    "\n",
    "# ans= find_x(0.2,1.2,10**(-7))\n",
    "# print ans"
   ]
  },
  {
   "cell_type": "markdown",
   "metadata": {},
   "source": [
    "1) Give me the solution to $x = e^{-x}$ that is $10^{-6}$ using bisection method.\n",
    "\n",
    "Pick the initial bound from the following and explain why you can't pick the other one.\n",
    "Bound A: (-1,0), Bound B (0,1)"
   ]
  },
  {
   "cell_type": "code",
   "execution_count": 17,
   "metadata": {
    "collapsed": false
   },
   "outputs": [
    {
     "name": "stdout",
     "output_type": "stream",
     "text": [
      "0.567143440247\n"
     ]
    }
   ],
   "source": [
    "def f(x):\n",
    "    return math.exp(-x)-x\n",
    "def check_sign(yo,yt):\n",
    "    return f(yo) * f(yt) < 0\n",
    "\n",
    "def pass_error(x,limit):\n",
    "    return math.fabs(f(x)) < limit\n",
    "\n",
    "def find_x(x0,x1,limit):\n",
    "    x = (x0+x1)/2\n",
    "#     print f(x)\n",
    "    if(pass_error(x,limit)):\n",
    "        return x   \n",
    "    else:\n",
    "        if(check_sign(x,x0)):\n",
    "            return find_x(x0,x,limit)\n",
    "        else:\n",
    "            return find_x(x,x1,limit)\n",
    "\n",
    "ans= find_x(0,1.,1e-6)\n",
    "print ans\n"
   ]
  },
  {
   "cell_type": "markdown",
   "metadata": {},
   "source": [
    "-1 actually give more value than 0"
   ]
  },
  {
   "cell_type": "markdown",
   "metadata": {},
   "source": [
    "2) Find all value of $x \\in [0,1]$ such that $f(x)=0$ for\n",
    "\n",
    "$f(x) = -0.000216747 + 0.0072868 x - 0.0977383 x^2 + 0.664685 x^3 - \n",
    " 2.40773 x^4 + 4.46766 x^5 - 3.7091 x^6 + x^7$\n",
    " \n",
    "Make sure your answers are at most $10^{-6}$ away from the real solution."
   ]
  },
  {
   "cell_type": "code",
   "execution_count": null,
   "metadata": {
    "collapsed": true
   },
   "outputs": [],
   "source": []
  },
  {
   "cell_type": "code",
   "execution_count": 18,
   "metadata": {
    "collapsed": false
   },
   "outputs": [
    {
     "data": {
      "text/plain": [
       "<matplotlib.lines.Line2D at 0x10c8f0c90>"
      ]
     },
     "execution_count": 18,
     "metadata": {},
     "output_type": "execute_result"
    },
    {
     "data": {
      "image/png": "[encoded data removed]",
      "text/plain": [
       "<matplotlib.figure.Figure at 0x10c8f0190>"
      ]
     },
     "metadata": {},
     "output_type": "display_data"
    }
   ],
   "source": [
    "xs = np.linspace(-2,3,100)\n",
    "def f(x):\n",
    "    return -0.000216747 + 0.0072868*x - 0.0977383*x**2 + 0.664685*x**3 - \\\n",
    "            2.40773*x**4 + 4.46766*x**5 - 3.7091*x**6 + x**7\n",
    "# def nf(x):\n",
    "#     return (0.000216747 + 0.0977383*x**2 - 0.664685*x**3 + \\\n",
    "#             2.40773*x**4 - 4.46766*x**5 + 3.7091*x**6 - x**7)/0.0072868\n",
    "ys = [f(x) for x in xs]\n",
    "plt.plot(xs,ys)\n",
    "plt.axhline(0,c='r')"
   ]
  },
  {
   "cell_type": "code",
   "execution_count": 19,
   "metadata": {
    "collapsed": false
   },
   "outputs": [
    {
     "data": {
      "text/plain": [
       "(-1e-05, 1e-05)"
      ]
     },
     "execution_count": 19,
     "metadata": {},
     "output_type": "execute_result"
    },
    {
     "data": {
      "image/png": "[encoded data removed]",
      "text/plain": [
       "<matplotlib.figure.Figure at 0x10c993550>"
      ]
     },
     "metadata": {},
     "output_type": "display_data"
    }
   ],
   "source": [
    "plt.plot(xs,ys)\n",
    "plt.axhline(0,c='r')\n",
    "plt.xlim(0,2.3)\n",
    "plt.ylim(-1e-5,1e-5)"
   ]
  },
  {
   "cell_type": "code",
   "execution_count": 20,
   "metadata": {
    "collapsed": false
   },
   "outputs": [],
   "source": [
    "def pass_error(x,limit):\n",
    "    return math.fabs(f(x)) < limit\n",
    "\n",
    "def find_x(x0,x1,limit):\n",
    "    x = (x0+x1)/2\n",
    "    if(pass_error(x,limit)):\n",
    "        return x   \n",
    "    else:\n",
    "        if(check_sign(x,x0)):\n",
    "            return find_x(x0,x,limit)\n",
    "        else:\n",
    "            return find_x(x,x1,limit)\n",
    "ans_lst = []\n",
    "\n",
    "ans= find_x(0.1,0.15,1e-6)\n",
    "# print ans\n",
    "ans_lst.append(ans)\n",
    "\n",
    "ans= find_x(0.15,0.25,1e-6)\n",
    "# print ans\n",
    "ans_lst.append(ans)\n",
    "\n",
    "ans= find_x(0.333,0.5,1e-6)\n",
    "# print ans\n",
    "ans_lst.append(ans)\n",
    "\n",
    "ans= find_x(0.5,1,1e-6)\n",
    "# print ans\n",
    "ans_lst.append(ans)\n",
    "\n",
    "# ans = find_x(1,2.5,1e-6)\n",
    "# # print ans\n",
    "# ans_lst.append(ans)\n",
    "\n"
   ]
  },
  {
   "cell_type": "code",
   "execution_count": 21,
   "metadata": {
    "collapsed": false
   },
   "outputs": [
    {
     "name": "stdout",
     "output_type": "stream",
     "text": [
      "[0.125, 0.225, 0.3343046875, 0.785400390625]\n"
     ]
    }
   ],
   "source": [
    "print ans_lst"
   ]
  },
  {
   "cell_type": "markdown",
   "metadata": {},
   "source": [
    "2.1) Find all the local minima and maxima of the above function. How do you figure out whether it is a local maximum or local minimum"
   ]
  },
  {
   "cell_type": "code",
   "execution_count": 22,
   "metadata": {
    "collapsed": false
   },
   "outputs": [
    {
     "data": {
      "text/plain": [
       "(-2.5, 0.1)"
      ]
     },
     "execution_count": 22,
     "metadata": {},
     "output_type": "execute_result"
    },
    {
     "data": {
      "image/png": "[encoded data removed]",
      "text/plain": [
       "<matplotlib.figure.Figure at 0x10ca8db50>"
      ]
     },
     "metadata": {},
     "output_type": "display_data"
    }
   ],
   "source": [
    "plt.plot(xs,ys)\n",
    "plt.axhline(0,c='r')\n",
    "plt.xlim(-0.7,2.3)\n",
    "plt.ylim(-2.5,0.1)"
   ]
  },
  {
   "cell_type": "code",
   "execution_count": 23,
   "metadata": {
    "collapsed": false
   },
   "outputs": [
    {
     "data": {
      "text/plain": [
       "(-1e-05, 1e-05)"
      ]
     },
     "execution_count": 23,
     "metadata": {},
     "output_type": "execute_result"
    },
    {
     "data": {
      "image/png": "[encoded data removed]",
      "text/plain": [
       "<matplotlib.figure.Figure at 0x10c973e90>"
      ]
     },
     "metadata": {},
     "output_type": "display_data"
    }
   ],
   "source": [
    "plt.plot(xs,ys)\n",
    "plt.axhline(0,c='r')\n",
    "plt.xlim(0,0.4)\n",
    "plt.ylim(-1e-5,1e-5)"
   ]
  },
  {
   "cell_type": "code",
   "execution_count": 24,
   "metadata": {
    "collapsed": false
   },
   "outputs": [
    {
     "data": {
      "text/plain": [
       "(-0.01, 0.01)"
      ]
     },
     "execution_count": 24,
     "metadata": {},
     "output_type": "execute_result"
    },
    {
     "data": {
      "image/png": "[encoded data removed]",
      "text/plain": [
       "<matplotlib.figure.Figure at 0x10ca6d710>"
      ]
     },
     "metadata": {},
     "output_type": "display_data"
    }
   ],
   "source": [
    "plt.plot(xs,ys)\n",
    "plt.axhline(0,c='r')\n",
    "plt.xlim(0.65,0.9)\n",
    "plt.ylim(-1e-2,1e-2)"
   ]
  },
  {
   "cell_type": "code",
   "execution_count": 31,
   "metadata": {
    "collapsed": false
   },
   "outputs": [
    {
     "name": "stdout",
     "output_type": "stream",
     "text": [
      "[0.19140625, 0.2971581726074219, 0.6817810865044593]\n"
     ]
    }
   ],
   "source": [
    "def df(x):\n",
    "    return  0.0072868 - 0.0977383*2*x + 0.664685*3*x**2 - \\\n",
    "            2.40773*4*x**3 + 4.46766*5*x**4 - 3.7091*6*x**5 + 7*x**6\n",
    "    \n",
    "# def ddf(x):\n",
    "#     return  - 2*0.0977383 + 3*2*0.664685*x - 4*3*2.40773*x**2 + 5*4*4.46766*x**3 - 6*5*3.7091*x**4 + 7*6*x**5\n",
    "\n",
    "def check_sign(yo,yt):\n",
    "    return df(yo) * df(yt) < 0\n",
    "def pass_error(x,limit):\n",
    "    return np.abs(df(x)) <= limit\n",
    "\n",
    "def find_dx(x0,x1,limit):\n",
    "    x = (x0+x1)/2.\n",
    "    if(pass_error(x,limit)):\n",
    "        return x   \n",
    "    else:\n",
    "        if(check_sign(x,x0)):\n",
    "            return find_x(x0,x,limit)\n",
    "        else:\n",
    "            return find_x(x,x1,limit)\n",
    "\n",
    "i = 0\n",
    "minmax = []\n",
    "while i < len(ans_lst)-1:\n",
    "    minmax.append(find_dx(ans_lst[i],ans_lst[i+1],1e-6))\n",
    "    i+=1\n",
    "print minmax"
   ]
  },
  {
   "cell_type": "code",
   "execution_count": null,
   "metadata": {
    "collapsed": true
   },
   "outputs": [],
   "source": []
  },
  {
   "cell_type": "markdown",
   "metadata": {},
   "source": [
    "2.2) What is the `global maximum` and `global minimum` of the function above within the range $x\\in[0,1]$"
   ]
  },
  {
   "cell_type": "code",
   "execution_count": 33,
   "metadata": {
    "collapsed": false
   },
   "outputs": [
    {
     "name": "stdout",
     "output_type": "stream",
     "text": [
      "-0.000216747 -0.075153247 [1.3690741949061664e-06, -1.214710847193058e-05, 0.0038258083219041422]\n",
      "Global Maximum =  1.36907419491e-06\n",
      "Global Minimum =  -1.21471084719e-05\n"
     ]
    }
   ],
   "source": [
    "print f(0),f(1),[f(x) for x in minmax]\n",
    "\n",
    "print \"Global Maximum = \" , f(minmax[0])\n",
    "print \"Global Minimum = \" , f(minmax[1])"
   ]
  },
  {
   "cell_type": "markdown",
   "metadata": {},
   "source": [
    "3) Suppose you are saving up your money for your new phone which costs 15000 Baht.  You save 1k every month and spend the rest. The `yearly` interest rate is 2% the interest is paid continously(you get interest paid to your account every microsecond). How long do you need to wait. Your answer should not be more than one second away from the real answer."
   ]
  },
  {
   "cell_type": "code",
   "execution_count": 12,
   "metadata": {
    "collapsed": false
   },
   "outputs": [
    {
     "name": "stdout",
     "output_type": "stream",
     "text": [
      "3.1104e+13 2.592e+12\n"
     ]
    }
   ],
   "source": [
    "year_micro = 12*30*24*60*60*1e6\n",
    "month_micro = 30*24*60*60*1e6\n",
    "print year_micro,month_micro\n",
    "\n"
   ]
  },
  {
   "cell_type": "code",
   "execution_count": null,
   "metadata": {
    "collapsed": false
   },
   "outputs": [],
   "source": []
  },
  {
   "cell_type": "code",
   "execution_count": null,
   "metadata": {
    "collapsed": true
   },
   "outputs": [],
   "source": []
  },
  {
   "cell_type": "code",
   "execution_count": null,
   "metadata": {
    "collapsed": true
   },
   "outputs": [],
   "source": []
  },
  {
   "cell_type": "markdown",
   "metadata": {},
   "source": [
    "Money after 1 micro = 1.02(1000)\n",
    "\n",
    "Money after 2 micro = 1.02(1.02(1000))\n",
    "\n",
    "Money after n micro = $1.02^n(1000)$"
   ]
  },
  {
   "cell_type": "code",
   "execution_count": null,
   "metadata": {
    "collapsed": true
   },
   "outputs": [],
   "source": []
  },
  {
   "cell_type": "markdown",
   "metadata": {},
   "source": [
    "4) Full Width at Half Maximum(FWHM). Distribution width is a very important quantity. It tells you how wide a function is. One way to do that is to use a quantity called full-width half max.\n",
    "\n",
    "This is the width of the distribution at half maximum. \n",
    "\n",
    "For example for distribution shown below the maximum is at x=0.0 and y=1.0\n",
    "\n",
    "The maximum of this distribution is 1.0. So we are interested in the width of the distribution when the value of the distribution is 1.0/2=0.5\n",
    "\n",
    "The width of the distribution is shown in black line. In this case it's about 2.35"
   ]
  },
  {
   "cell_type": "code",
   "execution_count": 211,
   "metadata": {
    "collapsed": false
   },
   "outputs": [
    {
     "data": {
      "text/plain": [
       "<matplotlib.text.Text at 0x10f89a790>"
      ]
     },
     "execution_count": 211,
     "metadata": {},
     "output_type": "execute_result"
    },
    {
     "data": {
      "image/png": "[encoded data removed]",
      "text/plain": [
       "<matplotlib.figure.Figure at 0x10f62fd90>"
      ]
     },
     "metadata": {},
     "output_type": "display_data"
    }
   ],
   "source": [
    "import math\n",
    "def demo(x):\n",
    "    return math.exp(-x**2/2.0)\n",
    "x = np.linspace(-3,3)\n",
    "y = [demo(xx) for xx in x]\n",
    "plt.plot(x,y)\n",
    "plt.axhline(0.5, color='red')\n",
    "\n",
    "plt.axvline(2.355/2,color='red',linestyle='dashed')\n",
    "plt.axvline(-2.355/2,color='red',linestyle='dashed')\n",
    "\n",
    "plt.grid()\n",
    "plt.annotate(\n",
    "    '', xy=(-2.355/2, 0.4), xycoords='data',\n",
    "    xytext=(2.355/2, 0.4), textcoords='data',\n",
    "    arrowprops={'arrowstyle': '<->'})\n",
    "plt.text(0,0.3,'FWHM',horizontalalignment ='center')"
   ]
  },
  {
   "cell_type": "markdown",
   "metadata": {},
   "source": [
    "4.1)Find FWHM of the following function. Make sure the bound on error of the FWHM is less than $10^{-4}$."
   ]
  },
  {
   "cell_type": "code",
   "execution_count": 212,
   "metadata": {
    "collapsed": false
   },
   "outputs": [
    {
     "data": {
      "text/plain": [
       "[<matplotlib.lines.Line2D at 0x10f6abc50>]"
      ]
     },
     "execution_count": 212,
     "metadata": {},
     "output_type": "execute_result"
    },
    {
     "data": {
      "image/png": "[encoded data removed]",
      "text/plain": [
       "<matplotlib.figure.Figure at 0x10f21e6d0>"
      ]
     },
     "metadata": {},
     "output_type": "display_data"
    }
   ],
   "source": [
    "import math\n",
    "def f(x, gamma=3.1):\n",
    "    mu = 2.345\n",
    "    return gamma/((x-mu)**2+gamma**2)\n",
    "x = np.linspace(-10,10,200)\n",
    "y = [f(xx) for xx in x]\n",
    "plt.plot(x,y)"
   ]
  },
  {
   "cell_type": "code",
   "execution_count": 213,
   "metadata": {
    "collapsed": false
   },
   "outputs": [
    {
     "name": "stdout",
     "output_type": "stream",
     "text": [
      "0.161290296356 0.322580592713\n"
     ]
    }
   ],
   "source": [
    "def df(x,gamma=3.1):\n",
    "    mu = 2.345\n",
    "    return -(gamma*2*(x-mu))/(((x-mu)**2+gamma**2)**2)\n",
    "def check_sign(yo,yt,g):\n",
    "    return df(yo,g) * df(yt,g) < 0\n",
    "\n",
    "def pass_error(x,limit,g=3.1):\n",
    "    return np.abs(df(x,g)) < limit\n",
    "\n",
    "def find_x(x0,x1,limit,g=3.1):\n",
    "    x = (x0+x1)/2\n",
    "#     print df(x)\n",
    "    if(pass_error(x,limit,g)):\n",
    "        return x   \n",
    "    else:\n",
    "        if(check_sign(x,x0,g)):\n",
    "            return find_x(x0,x,limit,g)\n",
    "        else:\n",
    "            return find_x(x,x1,limit,g)\n",
    "\n",
    "    \n",
    "maxx = find_x(0,5.,1e-4)\n",
    "maxy = f(maxx)\n",
    "midy = maxy/2.\n",
    "print midy,maxy\n",
    "\n",
    "\n"
   ]
  },
  {
   "cell_type": "code",
   "execution_count": 214,
   "metadata": {
    "collapsed": false
   },
   "outputs": [
    {
     "name": "stdout",
     "output_type": "stream",
     "text": [
      "6.20086669922\n"
     ]
    }
   ],
   "source": [
    "def f2(x, gamma=3.1,y = midy):\n",
    "    mu = 2.345\n",
    "    return gamma/((x-mu)**2+gamma**2) - y\n",
    "def check_sign2(yo,yt,g,my):\n",
    "    return f2(yo,g,my) * f2(yt,g,my) < 0\n",
    "\n",
    "def pass_error2(x,limit,g,my):\n",
    "    return np.abs(f2(x,g,my)) < limit\n",
    "def find_2x(x0,x1,limit,g,my):\n",
    "    x = (x0+x1)/2.\n",
    "#     print my,\"MIDY\",f2(x,g,my)\n",
    "    if(pass_error2(x,limit,g,my)):\n",
    "        return x   \n",
    "    else:\n",
    "        if(check_sign2(x,x0,g,my)):\n",
    "            return find_2x(x0,x,limit,g,my)\n",
    "        else:\n",
    "            return find_2x(x,x1,limit,g,my)\n",
    "m1 = find_2x(-10,maxx,1e-4,3.1,midy)\n",
    "m2 = find_2x(maxx,10,1e-4,3.1,midy)\n",
    "print m2-m1\n"
   ]
  },
  {
   "cell_type": "code",
   "execution_count": 215,
   "metadata": {
    "collapsed": false
   },
   "outputs": [
    {
     "name": "stdout",
     "output_type": "stream",
     "text": [
      "5.44662475586 -0.754241943359 6.20086669922\n"
     ]
    }
   ],
   "source": [
    "def findLR(x0,x1,limit,g=3.1):\n",
    "    \n",
    "    maxx = find_x(x0,x1,limit,g)\n",
    "    maxy = f(maxx,g)\n",
    "    midy = maxy/2.\n",
    "    m1 = find_2x(-10,maxx,1e-4,g,midy)\n",
    "    m2 = find_2x(maxx,10,1e-4,g,midy)\n",
    "    return m1,m2\n",
    "m1,m2 = findLR(-10.,10.,1e-4)\n",
    "print m2,m1,m2-m1"
   ]
  },
  {
   "cell_type": "code",
   "execution_count": 216,
   "metadata": {
    "collapsed": false
   },
   "outputs": [
    {
     "data": {
      "text/plain": [
       "<matplotlib.text.Text at 0x10fac8b50>"
      ]
     },
     "execution_count": 216,
     "metadata": {},
     "output_type": "execute_result"
    },
    {
     "data": {
      "image/png": "[encoded data removed]",
      "text/plain": [
       "<matplotlib.figure.Figure at 0x10f9c3350>"
      ]
     },
     "metadata": {},
     "output_type": "display_data"
    }
   ],
   "source": [
    "plt.plot(x,y)\n",
    "plt.axhline(midy, color='red')\n",
    "plt.axvline(m1,color='red',linestyle='dashed')\n",
    "plt.axvline(m2,color='red',linestyle='dashed')\n",
    "plt.grid()\n",
    "plt.annotate(\n",
    "    '', xy=(m1, 0.13), xycoords='data',\n",
    "    xytext=(m2, 0.13), textcoords='data',\n",
    "    arrowprops={'arrowstyle': '<->'})\n",
    "plt.text(2,0.10,'FWHM',horizontalalignment ='center')\n"
   ]
  },
  {
   "cell_type": "markdown",
   "metadata": {},
   "source": [
    "4.2) Plot FWHM(y-axis) as a function of $\\gamma$(gamma) from $\\gamma=0.5\\ldots 3$. Make sure you have at least 30 points."
   ]
  },
  {
   "cell_type": "code",
   "execution_count": 217,
   "metadata": {
    "collapsed": false
   },
   "outputs": [
    {
     "name": "stdout",
     "output_type": "stream",
     "text": [
      "0.108165114047\n"
     ]
    }
   ],
   "source": [
    "print f(1.0, gamma=0.2) # you may find this useful"
   ]
  },
  {
   "cell_type": "code",
   "execution_count": 218,
   "metadata": {
    "collapsed": false
   },
   "outputs": [
    {
     "data": {
      "image/png": "[encoded data removed]",
      "text/plain": [
       "<matplotlib.figure.Figure at 0x10fb19ed0>"
      ]
     },
     "metadata": {},
     "output_type": "display_data"
    }
   ],
   "source": [
    "gs = np.linspace(0.5,3,40)\n",
    "# print gs\n",
    "# print [f(find_x(-10.,10.,1e-4,g))/2.0 for g in gs]\n",
    "\n",
    "# anss = [findLR(-10.,10.,1e-4,g) for g in gs]\n",
    "# plt.plot([i in range(1,31)],)\n",
    "\n",
    "for g in gs:\n",
    "    x = np.linspace(-10,10,200)\n",
    "    y = [f(xx,g) for xx in x]\n",
    "    plt.plot(x,y)\n",
    "\n",
    "#     print findLR(-10.,10.,1e-4,g)"
   ]
  },
  {
   "cell_type": "code",
   "execution_count": 219,
   "metadata": {
    "collapsed": false
   },
   "outputs": [
    {
     "data": {
      "text/plain": [
       "[<matplotlib.lines.Line2D at 0x10fce4690>]"
      ]
     },
     "execution_count": 219,
     "metadata": {},
     "output_type": "execute_result"
    },
    {
     "data": {
      "image/png": "[encoded data removed]",
      "text/plain": [
       "<matplotlib.figure.Figure at 0x10fc9f150>"
      ]
     },
     "metadata": {},
     "output_type": "display_data"
    }
   ],
   "source": [
    "mx = []\n",
    "my = []\n",
    "for g in gs:\n",
    "    m1,m2=findLR(-10.,10.,1e-4,g)\n",
    "    mx.append(g)\n",
    "    my.append(m2-m1)\n",
    "#     print m2,m1\n",
    "plt.plot(mx,my)"
   ]
  },
  {
   "cell_type": "code",
   "execution_count": null,
   "metadata": {
    "collapsed": true
   },
   "outputs": [],
   "source": []
  },
  {
   "cell_type": "code",
   "execution_count": null,
   "metadata": {
    "collapsed": true
   },
   "outputs": [],
   "source": []
  }
 ],
 "metadata": {
  "kernelspec": {
   "display_name": "Python 2",
   "language": "python",
   "name": "python2"
  },
  "language_info": {
   "codemirror_mode": {
    "name": "ipython",
    "version": 2
   },
   "file_extension": ".py",
   "mimetype": "text/x-python",
   "name": "python",
   "nbconvert_exporter": "python",
   "pygments_lexer": "ipython2",
   "version": "2.7.10"
  }
 },
 "nbformat": 4,
 "nbformat_minor": 0
}
