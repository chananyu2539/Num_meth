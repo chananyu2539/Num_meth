{
 "cells": [
  {
   "cell_type": "markdown",
   "metadata": {},
   "source": [
    "# Exercise Interpolation"
   ]
  },
  {
   "cell_type": "code",
   "execution_count": 1,
   "metadata": {
    "collapsed": false
   },
   "outputs": [],
   "source": [
    "%matplotlib inline\n",
    "import math\n",
    "import numpy as np\n",
    "from matplotlib import pyplot as plt"
   ]
  },
  {
   "cell_type": "markdown",
   "metadata": {},
   "source": [
    "1) Plot these four points (2,3), (3,1), (4,2), (5,2)."
   ]
  },
  {
   "cell_type": "code",
   "execution_count": 5,
   "metadata": {
    "collapsed": false
   },
   "outputs": [
    {
     "data": {
      "text/plain": [
       "[<matplotlib.lines.Line2D at 0x10a7e0950>]"
      ]
     },
     "execution_count": 5,
     "metadata": {},
     "output_type": "execute_result"
    },
    {
     "data": {
      "image/png": "[encoded data removed]",
      "text/plain": [
       "<matplotlib.figure.Figure at 0x10a6f4550>"
      ]
     },
     "metadata": {},
     "output_type": "display_data"
    }
   ],
   "source": [
    "plt.plot([2,3,4,5],[3,1,2,2],'o')"
   ]
  },
  {
   "cell_type": "markdown",
   "metadata": {},
   "source": [
    "2) Find the polynomial of degree 3 that pass through these four points. Plot to verify."
   ]
  },
  {
   "cell_type": "code",
   "execution_count": 68,
   "metadata": {
    "collapsed": false
   },
   "outputs": [
    {
     "data": {
      "text/plain": [
       "[<matplotlib.lines.Line2D at 0x10e5b2c10>]"
      ]
     },
     "execution_count": 68,
     "metadata": {},
     "output_type": "execute_result"
    },
    {
     "data": {
      "image/png": "[encoded data removed]",
      "text/plain": [
       "<matplotlib.figure.Figure at 0x10e4e2550>"
      ]
     },
     "metadata": {},
     "output_type": "display_data"
    }
   ],
   "source": [
    "def f(x,l,yl):\n",
    "    ans = 0\n",
    "    for i in range(len(l)):\n",
    "        numerator = 1\n",
    "        denominator = 1\n",
    "        for j in range(len(l)):\n",
    "            if j != i:\n",
    "                numerator = numerator * (x-l[j])\n",
    "                denominator = denominator * (l[i]-l[j])\n",
    "        ans+= yl[i]*numerator/float(denominator)\n",
    "    return ans\n",
    "\n",
    "xlst = [2,3,4,5]\n",
    "ylst = [3,1,2,2]\n",
    "\n",
    "plt.plot([2,3,4,5],[3,1,2,2],'or')\n",
    "\n",
    "xs = np.linspace(1,6,50)\n",
    "plt.plot(xs,[f(x,xlst,ylst) for x in xs])\n",
    "                "
   ]
  },
  {
   "cell_type": "code",
   "execution_count": null,
   "metadata": {
    "collapsed": true
   },
   "outputs": [],
   "source": []
  },
  {
   "cell_type": "markdown",
   "metadata": {},
   "source": [
    "3) Find polynomial of degree 3 that pass through these four points. Plot to verify.\n",
    "\n",
    "(1,2) (2,0) (3,2) (7,1)"
   ]
  },
  {
   "cell_type": "code",
   "execution_count": 14,
   "metadata": {
    "collapsed": false
   },
   "outputs": [
    {
     "data": {
      "text/plain": [
       "[<matplotlib.lines.Line2D at 0x10b038110>]"
      ]
     },
     "execution_count": 14,
     "metadata": {},
     "output_type": "execute_result"
    },
    {
     "data": {
      "image/png": "[encoded data removed]",
      "text/plain": [
       "<matplotlib.figure.Figure at 0x10b038090>"
      ]
     },
     "metadata": {},
     "output_type": "display_data"
    }
   ],
   "source": [
    "xs = np.linspace(0,8,50)\n",
    "xlst = [1,2,3,7]\n",
    "ylst = [2,0,2,1]\n",
    "plt.plot(xlst,ylst,'or')\n",
    "\n",
    "\n",
    "plt.plot(xs,[f(x,xlst,ylst) for x in xs])"
   ]
  },
  {
   "cell_type": "markdown",
   "metadata": {},
   "source": [
    "4) Write a function `ledendre(x, xs, ys)` which compute the legendre polynomial given the list of x values in xs and y values in ys.\n",
    "\n",
    "`legendre(1.5, [1,2,3,7], [2,0,2,1])`\n",
    "\n",
    "should have the same value as the polymial you found in 3) evaluated at x=1.5.\n",
    "\n",
    "For those of you who know functional programming try write a functor that return a polynomial."
   ]
  },
  {
   "cell_type": "code",
   "execution_count": null,
   "metadata": {
    "collapsed": true
   },
   "outputs": [],
   "source": [
    "def legendre(x, xs, ys):\n",
    "    #fill in\n",
    "    return 0. #change this"
   ]
  },
  {
   "cell_type": "markdown",
   "metadata": {},
   "source": [
    "5) Now sample 11 points  from $f(x) = \\sin(x)$ for for $x\\in[0, \\pi]$. Plot $\\sin(x)$ along with those 11 points. Make sure your $\\sin(x)$ is plotted with more than 100 points"
   ]
  },
  {
   "cell_type": "code",
   "execution_count": 21,
   "metadata": {
    "collapsed": false
   },
   "outputs": [
    {
     "data": {
      "text/plain": [
       "[<matplotlib.lines.Line2D at 0x10b65a450>]"
      ]
     },
     "execution_count": 21,
     "metadata": {},
     "output_type": "execute_result"
    },
    {
     "data": {
      "image/png": "[encoded data removed]",
      "text/plain": [
       "<matplotlib.figure.Figure at 0x10b65a510>"
      ]
     },
     "metadata": {},
     "output_type": "display_data"
    }
   ],
   "source": [
    "pxs= np.linspace(0,math.pi,11)\n",
    "yxs = np.sin(pxs)\n",
    "plt.plot(pxs,yxs,\"or\")\n",
    "xs = np.linspace(-1,math.pi+1,200)\n",
    "ys = [f(x,pxs,yxs) for x in xs]\n",
    "plt.plot(xs,ys)"
   ]
  },
  {
   "cell_type": "markdown",
   "metadata": {},
   "source": [
    "6) Plot legendre polynomial for these points. How similar is it to $\\sin(x)$ function. Make sure your legendre is plotte with at least 100 points."
   ]
  },
  {
   "cell_type": "code",
   "execution_count": 36,
   "metadata": {
    "collapsed": false
   },
   "outputs": [
    {
     "data": {
      "text/plain": [
       "[<matplotlib.lines.Line2D at 0x10c493090>]"
      ]
     },
     "execution_count": 36,
     "metadata": {},
     "output_type": "execute_result"
    },
    {
     "data": {
      "image/png": "[encoded data removed]",
      "text/plain": [
       "<matplotlib.figure.Figure at 0x10c3a3190>"
      ]
     },
     "metadata": {},
     "output_type": "display_data"
    }
   ],
   "source": [
    "pxs= np.linspace(0,math.pi,11)\n",
    "yxs = np.sin(pxs)\n",
    "\n",
    "xs = np.linspace(-1,math.pi+1,200)\n",
    "ys = [f(x,pxs,yxs) for x in xs]\n",
    "plt.plot(xs,ys,lw=5,color=\"y\")\n",
    "sys = np.sin(xs)\n",
    "plt.plot(xs,sys,lw=5,color=\"k\",ls=\"--\")"
   ]
  },
  {
   "cell_type": "markdown",
   "metadata": {},
   "source": [
    "7) Now sample 11 points  from $f(x) = \\sin(200x)$ for for $x\\in[0, \\pi]$. Plot $\\sin(x)$ along with those 11 points. Note the 200. Then plot legendre polynomial for these points."
   ]
  },
  {
   "cell_type": "code",
   "execution_count": 63,
   "metadata": {
    "collapsed": false
   },
   "outputs": [
    {
     "data": {
      "text/plain": [
       "[<matplotlib.lines.Line2D at 0x10dbf4f90>]"
      ]
     },
     "execution_count": 63,
     "metadata": {},
     "output_type": "execute_result"
    },
    {
     "data": {
      "image/png": "[encoded data removed]",
      "text/plain": [
       "<matplotlib.figure.Figure at 0x10dbf4510>"
      ]
     },
     "metadata": {},
     "output_type": "display_data"
    }
   ],
   "source": [
    "pxs= np.linspace(0,math.pi,11)\n",
    "yxs = [math.sin(200*x) for x in pxs]\n",
    "plt.plot(pxs,yxs,\"or\")\n",
    "xs = np.linspace(-0.03,math.pi+0.03,2000)\n",
    "ys = [f(x,pxs,yxs) for x in xs]\n",
    "plt.plot(xs,ys)"
   ]
  },
  {
   "cell_type": "code",
   "execution_count": 64,
   "metadata": {
    "collapsed": false
   },
   "outputs": [
    {
     "data": {
      "text/plain": [
       "[<matplotlib.lines.Line2D at 0x10dc03150>]"
      ]
     },
     "execution_count": 64,
     "metadata": {},
     "output_type": "execute_result"
    },
    {
     "data": {
      "image/png": "[encoded data removed]",
      "text/plain": [
       "<matplotlib.figure.Figure at 0x10a3bbc90>"
      ]
     },
     "metadata": {},
     "output_type": "display_data"
    }
   ],
   "source": [
    "rys = [math.sin(200*x) for x in xs]\n",
    "plt.plot(xs,ys)\n",
    "plt.plot(xs,rys)"
   ]
  },
  {
   "cell_type": "markdown",
   "metadata": {},
   "source": [
    "8) Does it pass through all the point? Does it look like the original function."
   ]
  },
  {
   "cell_type": "code",
   "execution_count": null,
   "metadata": {
    "collapsed": true
   },
   "outputs": [],
   "source": []
  },
  {
   "cell_type": "markdown",
   "metadata": {},
   "source": [
    "# Exercise Integration"
   ]
  },
  {
   "cell_type": "markdown",
   "metadata": {},
   "source": [
    "0) What is $$ \\int \\limits_{x=1}^{x=3} x^3 \\; dx $$"
   ]
  },
  {
   "cell_type": "code",
   "execution_count": null,
   "metadata": {
    "collapsed": true
   },
   "outputs": [],
   "source": []
  },
  {
   "cell_type": "markdown",
   "metadata": {},
   "source": [
    "1)Use Trapezoid Rule to calculate\n",
    "\n",
    "$$ \\int \\limits_{x=1}^{x=3} x^3 \\; dx $$\n",
    "\n",
    "Using 1 piece."
   ]
  },
  {
   "cell_type": "code",
   "execution_count": 76,
   "metadata": {
    "collapsed": false
   },
   "outputs": [
    {
     "name": "stdout",
     "output_type": "stream",
     "text": [
      "28.0 20.0\n"
     ]
    }
   ],
   "source": [
    "def f(x):\n",
    "    return x**3\n",
    "def intf(l,u):\n",
    "    return u**4/4. - l**4/4.\n",
    "\n",
    "def calculate(x0,xf,n):\n",
    "    h = (xf-x0)/n\n",
    "    i = x0 + h\n",
    "    ans = f(x0)/2. + f(xf)/2.\n",
    "    while(i<xf):\n",
    "        \n",
    "        ans+=f(i)\n",
    "#         print ans\n",
    "        i+=h\n",
    "#     ans = ans - f(x0)/2. - f(xf)/2.\n",
    "    ans = h*ans\n",
    "    return ans\n",
    "\n",
    "print calculate(1,3,1),intf(1,3)"
   ]
  },
  {
   "cell_type": "code",
   "execution_count": null,
   "metadata": {
    "collapsed": false
   },
   "outputs": [],
   "source": []
  },
  {
   "cell_type": "markdown",
   "metadata": {},
   "source": [
    "2)Use Trapezoid Rule to calculate\n",
    "\n",
    "$$ \\int \\limits_{x=1}^{x=3} x^3 \\; dx $$\n",
    "\n",
    "Using 100 pieces."
   ]
  },
  {
   "cell_type": "code",
   "execution_count": 77,
   "metadata": {
    "collapsed": false
   },
   "outputs": [
    {
     "name": "stdout",
     "output_type": "stream",
     "text": [
      "20.0008 20.0\n"
     ]
    }
   ],
   "source": [
    "print calculate(1,3,100.),intf(1,3)"
   ]
  },
  {
   "cell_type": "markdown",
   "metadata": {},
   "source": [
    "Example: Use Trapezoid Rule to calculate\n",
    "\n",
    "$$ \\int \\limits_{x=1}^{x=2} x^3 \\; dx $$\n",
    "\n",
    "Using 10 pieces."
   ]
  },
  {
   "cell_type": "code",
   "execution_count": 91,
   "metadata": {
    "collapsed": false
   },
   "outputs": [
    {
     "name": "stdout",
     "output_type": "stream",
     "text": [
      "0.01\n",
      "3.7575 3.7675 3.7475 3.75\n"
     ]
    }
   ],
   "source": [
    "traparea = calculate(1,2,10.)\n",
    "#error = (b-a)^3/12n^2   * (f''(xi))\n",
    "# error between 1-2 of 6x\n",
    "def ddf(x):\n",
    "    return 6*x\n",
    "b = 2\n",
    "a = 1\n",
    "n=10\n",
    "xi=2\n",
    "error = (b-a)**3/(12.*n**2) * ddf(xi)\n",
    "print error\n",
    "print traparea, traparea+error,traparea-error , intf(1,2)"
   ]
  },
  {
   "cell_type": "markdown",
   "metadata": {},
   "source": [
    "3) What is the bound on error for 1)?"
   ]
  },
  {
   "cell_type": "code",
   "execution_count": 90,
   "metadata": {
    "collapsed": false
   },
   "outputs": [
    {
     "name": "stdout",
     "output_type": "stream",
     "text": [
      "12.0\n"
     ]
    }
   ],
   "source": [
    "b=3\n",
    "a=1\n",
    "n=1\n",
    "xi=3\n",
    "error1 = (b-a)**3/(12.*n**2) * ddf(xi)\n",
    "print error1"
   ]
  },
  {
   "cell_type": "markdown",
   "metadata": {},
   "source": [
    "4) What is the bound on error for 2)?"
   ]
  },
  {
   "cell_type": "code",
   "execution_count": 87,
   "metadata": {
    "collapsed": false
   },
   "outputs": [
    {
     "name": "stdout",
     "output_type": "stream",
     "text": [
      "0.0012\n"
     ]
    }
   ],
   "source": [
    "b=3\n",
    "a=1\n",
    "n=100\n",
    "xi=3\n",
    "error2 = (b-a)**3/(12.*n**2) * ddf(xi)\n",
    "print error2"
   ]
  },
  {
   "cell_type": "markdown",
   "metadata": {},
   "source": [
    "5) Compute the following integral\n",
    "$$ \\int \\limits_{x=0}^{x=1} e^{-x} \\sin(x^2) \\; dx $$\n",
    "\n",
    "using 100 sub divisions. This is one of those thing you can't do by hands. "
   ]
  },
  {
   "cell_type": "code",
   "execution_count": 94,
   "metadata": {
    "collapsed": false
   },
   "outputs": [
    {
     "name": "stdout",
     "output_type": "stream",
     "text": [
      "0.150913300269\n"
     ]
    }
   ],
   "source": [
    "def f(x):\n",
    "    return math.exp(-x)*math.sin(x**2)\n",
    "\n",
    "\n",
    "def calculate(x0,xf,n):\n",
    "    h = (xf-x0)/n\n",
    "    ans = f(x0)/2. + f(xf)/2.\n",
    "    i = x0+h\n",
    "\n",
    "    while(i<xf):\n",
    "        ans+=f(i)\n",
    "        i+=h\n",
    "    ans = h*ans\n",
    "    return ans\n",
    "print calculate(0,1,100.)"
   ]
  },
  {
   "cell_type": "markdown",
   "metadata": {},
   "source": [
    "6) If we want compute\n",
    "$$ \\int \\limits_{x=0}^{x=1} e^{-x} \\; dx $$\n",
    "that is at most $10^{-6}$ away from the real answer. How many subdivisions do we need?"
   ]
  },
  {
   "cell_type": "code",
   "execution_count": 99,
   "metadata": {
    "collapsed": false
   },
   "outputs": [
    {
     "name": "stdout",
     "output_type": "stream",
     "text": [
      "289\n"
     ]
    }
   ],
   "source": [
    "def ddf(x):\n",
    "    return math.exp(-x)\n",
    "\n",
    "def f(x):\n",
    "    return math.exp(-x)\n",
    "\n",
    "def calculate(x0,xf,n):\n",
    "    h = (xf-x0)/n\n",
    "    ans = f(x0)/2. + f(xf)/2.\n",
    "    i = x0+h\n",
    "\n",
    "    while(i<xf):\n",
    "        ans+=f(i)\n",
    "        i+=h\n",
    "    ans = h*ans\n",
    "    return ans\n",
    "# print calculate(0,1,100.)\n",
    "\n",
    "def error(a,b,n,xi):\n",
    "    return (b-a)**3/(12.*n**2) * ddf(xi)\n",
    "\n",
    "def findSol(a,b,n,xi):\n",
    "    err = error(a,b,n,xi)\n",
    "    while(np.abs(err)>1e-6):\n",
    "        n+=1\n",
    "        err = error(a,b,n,xi)\n",
    "\n",
    "#         print err\n",
    "    return n\n",
    "\n",
    "print findSol(0,1,1,0)"
   ]
  },
  {
   "cell_type": "markdown",
   "metadata": {},
   "source": [
    "7) Compute the integral above and make sure your answer is at most $10^-6$ away from the real answer. "
   ]
  },
  {
   "cell_type": "code",
   "execution_count": 101,
   "metadata": {
    "collapsed": false
   },
   "outputs": [
    {
     "name": "stdout",
     "output_type": "stream",
     "text": [
      " 0.632122187282 0.632120191776\n"
     ]
    }
   ],
   "source": [
    "ans= calculate(0,1,289.)\n",
    "err = error(0,1,289.,0)\n",
    "print ans + err,ans-err\n"
   ]
  },
  {
   "cell_type": "code",
   "execution_count": null,
   "metadata": {
    "collapsed": true
   },
   "outputs": [],
   "source": []
  }
 ],
 "metadata": {
  "kernelspec": {
   "display_name": "Python 2",
   "language": "python",
   "name": "python2"
  },
  "language_info": {
   "codemirror_mode": {
    "name": "ipython",
    "version": 2
   },
   "file_extension": ".py",
   "mimetype": "text/x-python",
   "name": "python",
   "nbconvert_exporter": "python",
   "pygments_lexer": "ipython2",
   "version": "2.7.10"
  }
 },
 "nbformat": 4,
 "nbformat_minor": 0
}
