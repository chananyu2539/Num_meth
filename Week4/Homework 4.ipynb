{
 "cells": [
  {
   "cell_type": "markdown",
   "metadata": {},
   "source": [
    "##Homework 4 Interpolation and Trapezoid Rule."
   ]
  },
  {
   "cell_type": "code",
   "execution_count": 21,
   "metadata": {
    "collapsed": false
   },
   "outputs": [],
   "source": [
    "%matplotlib inline\n",
    "import numpy as np\n",
    "from matplotlib import pyplot as plt\n",
    "from math import sin, cos, exp, pi, sqrt\n",
    "import math"
   ]
  },
  {
   "cell_type": "markdown",
   "metadata": {},
   "source": [
    "1) Find legendre polynomial that passes through these points. Plot the polynomial line along with the points."
   ]
  },
  {
   "cell_type": "code",
   "execution_count": 6,
   "metadata": {
    "collapsed": false
   },
   "outputs": [],
   "source": [
    "xs = [1,2.5, 3,  5, 6,6.5]\n",
    "ys = [2,  1, 0, -1, 3,  5]\n",
    "\n",
    "def legendre(x,l,yl):\n",
    "    ans = 0\n",
    "    for i in range(len(l)):\n",
    "        numerator = 1\n",
    "        denominator = 1\n",
    "        for j in range(len(l)):\n",
    "            if j != i:\n",
    "                numerator = numerator * (x-l[j])\n",
    "                denominator = denominator * (l[i]-l[j])\n",
    "        ans+= yl[i]*numerator/float(denominator)\n",
    "    return ans\n"
   ]
  },
  {
   "cell_type": "code",
   "execution_count": 7,
   "metadata": {
    "collapsed": false
   },
   "outputs": [
    {
     "data": {
      "text/plain": [
       "[<matplotlib.lines.Line2D at 0x107a97690>]"
      ]
     },
     "execution_count": 7,
     "metadata": {},
     "output_type": "execute_result"
    },
    {
     "data": {
      "image/png": "[encoded data removed]",
      "text/plain": [
       "<matplotlib.figure.Figure at 0x107a97590>"
      ]
     },
     "metadata": {},
     "output_type": "display_data"
    }
   ],
   "source": [
    "plt.plot(xs,ys,'or')\n",
    "\n",
    "nxs = np.linspace(0,7,50)\n",
    "plt.plot(nxs,[legendre(x,xs,ys) for x in nxs])"
   ]
  },
  {
   "cell_type": "markdown",
   "metadata": {},
   "source": [
    "2) Compute the following integral using trapezoid rule with 100 pieces. (Trust me, don't try to do it by hand.)\n",
    "$$\\int \\limits_{x=0}^{x=\\pi} x^2\\sin(x^2)\\;dx$$"
   ]
  },
  {
   "cell_type": "code",
   "execution_count": 9,
   "metadata": {
    "collapsed": false
   },
   "outputs": [
    {
     "name": "stdout",
     "output_type": "stream",
     "text": [
      "1.5625313119\n"
     ]
    }
   ],
   "source": [
    "def f(x):\n",
    "    return (x**2)*math.sin(x**2)\n",
    "\n",
    "def calculate(x0,xf,n):\n",
    "    h = (xf-x0)/n\n",
    "    ans = f(x0)/2. + f(xf)/2.\n",
    "    i = x0+h\n",
    "\n",
    "    while(i<xf):\n",
    "        ans+=f(i)\n",
    "        i+=h\n",
    "    ans = h*ans\n",
    "    return ans\n",
    "print calculate(0,math.pi,100.)"
   ]
  },
  {
   "cell_type": "markdown",
   "metadata": {},
   "source": [
    "3) In the class, we learned how to do integral where the limit is finite. Sometimes we need to do the integral when the limit is not finite. For example, a lot of time in statistic we need to evaluate the integral of normal distribution function\n",
    "$$f(t) = \\frac{1}{\\sqrt{\\pi}} e^{-t^2}$$\n",
    "from $x$ to certain point $\\infty$. From statistics you will see a table for complementary error function like one you found here(see page2) http://www.geophysik.uni-muenchen.de/~malservisi/GlobaleGeophysik2/erf_tables.pdf\n",
    "\n",
    "$$ erfc(x) = \\int \\limits_{t=x}^{t=\\infty} \\frac{2}{\\sqrt{\\pi}} e^{-t^2} \\; dt $$\n",
    "\n",
    "If you try to use trapezoid rule directly with this you will find that computer has problem with understanding $\\infty$. Thus, we need to do a change to variable such that it turns the improper integral into a proper integral.\n",
    "\n",
    "Remember that $\\tan(\\pi/2) = \\infty$, if we let $$ t = \\tan(u)$$ then the integral above becomes\n",
    "\n",
    "$$ erfc(x) = \\int \\limits_{u=\\arctan(x)}^{u=\\frac{\\pi}{2}} \\frac{2}{\\sqrt{\\pi}} \\frac{e^{-\\tan(u)^2}}{  \\cos(u)^2} \\;du $$\n",
    "\n",
    "Even though it looks much scarier than before, all the $\\infty$ are gone. However, using trapezoid rule for all pieces is bad since the right end point still has $e^{-\\infty}/0$; computer will scream at this.\n",
    "\n",
    "We can avoid that trouble by first subdivide this into many pieces. Then, we use trapezoid rule for all pieces except the right most piece at $\\frac{\\pi}{2}$. For this piece, we can use mid-point rule $A = f((l+r)/2)h$ instead.\n",
    "\n",
    "Your job for this problem is to find the value for $erfc(0)$, $erfc(0.5)$, $erfc(1.0)$ and $erfc(1.5)$.  Pick appropriate number of subdivisions. You should get something very close to the table.\n",
    "\n",
    "This is actually a general techique for dealing with infinity in numerical computation: try $\\tan(u)$ first. Sometimes we use sigmoid function instead because of some of its nice property, you will see some of the use in Pattern Recognition. It should be noted that there is actually a better but adhoc way to avoid imporoper integral for normal distribution but we won't go there."
   ]
  },
  {
   "cell_type": "code",
   "execution_count": null,
   "metadata": {
    "collapsed": true
   },
   "outputs": [],
   "source": []
  },
  {
   "cell_type": "markdown",
   "metadata": {},
   "source": [
    "4) In the class, you learn a bunch of tools. But, in the homework, I need you to be a little bit creative and use all you have learned to solve a seemingly random problem.\n",
    "\n",
    "Let us consider semi-circular paper of radius 2 . The area of the whole paper is $2\\pi \\approx 6.28$.\n",
    "We want to cut a chord(red line) from this paper such that the area of the leftover paper(shown in blue) is $4.0$. Where should I cut the chord (find the value of $x$ where the red line should be such that the area of the blue region is $4.0$? Try to get a decent answer. \n",
    "\n",
    "If you are good with geometry you can actually figure this one out analytically, but I want you to do it numerically using what we have learned so far."
   ]
  },
  {
   "cell_type": "code",
   "execution_count": 13,
   "metadata": {
    "collapsed": false
   },
   "outputs": [
    {
     "data": {
      "text/plain": [
       "<matplotlib.collections.PolyCollection at 0x10810d8d0>"
      ]
     },
     "execution_count": 13,
     "metadata": {},
     "output_type": "execute_result"
    },
    {
     "data": {
      "image/png": "[encoded data removed]",
      "text/plain": [
       "<matplotlib.figure.Figure at 0x107b93dd0>"
      ]
     },
     "metadata": {},
     "output_type": "display_data"
    }
   ],
   "source": [
    "def circ_top(x, r=2.):\n",
    "    return sqrt(r**2 - x**2)\n",
    "def circ_bot(x, r=2.):\n",
    "    return -sqrt(r**2 - x**2)\n",
    "\n",
    "x=np.linspace(0,2,100)\n",
    "y_top = [circ_top(xx) for xx in x]\n",
    "y_bot = [circ_bot(xx) for xx in x]\n",
    "ax= plt.figure(figsize=(4,4))\n",
    "plt.gca().set_aspect('equal') #get current axis and set aspect ratio\n",
    "plt.plot(x, y_top, 'k-')\n",
    "plt.plot(x, y_bot, 'k-')\n",
    "plt.axvline(1.1,color='red')\n",
    "plt.fill_between(x,y_top,y_bot,where=x>1.1,alpha=0.3)"
   ]
  },
  {
   "cell_type": "code",
   "execution_count": 68,
   "metadata": {
    "collapsed": false
   },
   "outputs": [],
   "source": [
    "def f(x):\n",
    "    return 2*circ_top(x)\n",
    "\n",
    "def calculate(x0,xf,n):\n",
    "    h = (xf-x0)/n\n",
    "    ans = f(x0)/2. + f(xf)/2.\n",
    "    i = x0+h\n",
    "    while(i<xf):\n",
    "        ans+=f(i)\n",
    "        i+=h\n",
    "    ans = h*ans\n",
    "    return ans\n",
    "\n",
    "def findSol(s,f,n,b):\n",
    "    cf = f\n",
    "    ans = calculate(s,f,n)\n",
    "    i = 0\n",
    "    while np.abs(ans-b) > 1e-6:\n",
    "#         if i <10:\n",
    "#             print s,ans\n",
    "        if ans > b:\n",
    "            s = (s+cf)/2.\n",
    "        else:\n",
    "            os = s\n",
    "            s = (s+cf)/2.-s\n",
    "            cf = os\n",
    "        i+=1\n",
    "        ans = calculate(s,f,n)\n",
    "    return s,ans\n",
    "\n",
    "ansx,area = findSol(0,2.,100.,4.)\n",
    "# calculate(0.57,2.,100.)"
   ]
  },
  {
   "cell_type": "code",
   "execution_count": 69,
   "metadata": {
    "collapsed": false
   },
   "outputs": [
    {
     "data": {
      "text/plain": [
       "<matplotlib.collections.PolyCollection at 0x108320850>"
      ]
     },
     "execution_count": 69,
     "metadata": {},
     "output_type": "execute_result"
    },
    {
     "data": {
      "image/png": "[encoded data removed]",
      "text/plain": [
       "<matplotlib.figure.Figure at 0x10886c390>"
      ]
     },
     "metadata": {},
     "output_type": "display_data"
    }
   ],
   "source": [
    "x=np.linspace(0,2,100)\n",
    "y_top = [circ_top(xx) for xx in x]\n",
    "y_bot = [circ_bot(xx) for xx in x]\n",
    "ax= plt.figure(figsize=(4,4))\n",
    "plt.gca().set_aspect('equal') #get current axis and set aspect ratio\n",
    "plt.plot(x, y_top, 'k-')\n",
    "plt.plot(x, y_bot, 'k-')\n",
    "plt.axvline(ansx,color='red')\n",
    "plt.fill_between(x,y_top,y_bot,where=x>ansx,alpha=0.3)"
   ]
  },
  {
   "cell_type": "markdown",
   "metadata": {},
   "source": [
    "5) Fourier Series is one of the most useful mathematical fact in real life. You can look up wikipedia on where it gets used. The claim is quite simple. Similar to Taylor series, Fourier claims/prove that all preriodic functions can be written as a sum of sine and cosine of varying frequency. For function of period $2L$, the sum can be written as\n",
    "\n",
    "$$f(x) = \\frac{a_0}{2} + a_1 \\cos(\\pi \\frac{x}{L}) + a_2\\cos(2\\pi \\frac{x}{L}) + a_3 \\cos(3 \\pi \\frac{x}{L}) + \\ldots\\\\\n",
    "+b_1 \\sin(\\pi \\frac{x}{L}) + b_2\\sin(2\\pi \\frac{x}{L}) + b_3 \\sin(3 \\pi \\frac{x}{L}) + \\ldots$$\n",
    "\n",
    "\n",
    "\n"
   ]
  },
  {
   "cell_type": "markdown",
   "metadata": {
    "collapsed": true
   },
   "source": [
    "Before it gets too abstract, the cell below show how similar the sawtooth function is to the sum of a few sine and cosine.\n",
    "\n",
    "The function below is sawtooth function with period of 2(it repeats itself every length 2). Since the period is $2L$, $L=1$. That means we expect\n",
    "\n",
    "$$sawtooth(x) \\approx \\frac{a_0}{2} + a_1 \\cos(\\pi x) + a_2\\cos(2\\pi x) + a_3 \\cos(3 \\pi x) + \\ldots\\\\\n",
    "+b_1 \\sin(\\pi x) + b_2\\sin(2\\pi x) + b_3 \\sin(3 \\pi x) + \\ldots$$\n",
    "\n",
    "We will learn the magical power that helps us figure out $a$'s and $b$'s later. Let us compare it with\n",
    "$$magic(x) = 1 - \\frac{2}{\\pi}\\sin(\\pi x) -\\frac{2}{2\\pi}\\sin(2\\pi x) - \\frac{2}{3\\pi}\\sin(3\\pi x) - \\ldots$$\n",
    "which means that $a_0=2$, $\\displaystyle b_i = -\\frac{2}{i\\pi}$ and $a_1=a_2=\\ldots=0$."
   ]
  },
  {
   "cell_type": "code",
   "execution_count": 4,
   "metadata": {
    "collapsed": false
   },
   "outputs": [
    {
     "data": {
      "text/plain": [
       "<matplotlib.legend.Legend at 0x10603d210>"
      ]
     },
     "execution_count": 4,
     "metadata": {},
     "output_type": "execute_result"
    },
    {
     "data": {
      "image/png": "[encoded data removed]",
      "text/plain": [
       "<matplotlib.figure.Figure at 0x10603d1d0>"
      ]
     },
     "metadata": {},
     "output_type": "display_data"
    }
   ],
   "source": [
    "def sawtooth(x):\n",
    "    return x%2 #only works in python. other languages will scream.\n",
    "\n",
    "x = np.linspace(0,5,100)\n",
    "y = [sawtooth(xx) for xx in x]\n",
    "plt.plot(x,y,label='sawtooth')\n",
    "plt.grid()\n",
    "\n",
    "def magic(x):\n",
    "    s = 0\n",
    "    s += 1\n",
    "    s += -2/pi*sin(pi*x) - 2/2./pi*sin(2*pi*x) - 2/3./pi*sin(3*pi*x)\n",
    "    return s\n",
    "magical_y = [magic(xx) for xx in x]\n",
    "plt.plot(x, magical_y,'r-',label='magic')\n",
    "plt.legend(loc='upper left')"
   ]
  },
  {
   "cell_type": "markdown",
   "metadata": {
    "collapsed": true
   },
   "source": [
    "Let us talk about how the magic of figuring out $a$ and $b$. We can show that\n",
    "\n",
    "$$a_i = \\frac{1}{L}\\int \\limits_{x=0}^{x=2L} f(x)\\cos(i \\pi \\frac{x}{L})\\; dx $$\n",
    "\n",
    "\n",
    "$$b_i = \\frac{1}{L}\\int \\limits_{x=0}^{x=2L} f(x)\\sin(i \\pi \\frac{x}{L})\\; dx $$\n",
    "You can actually prove this with basic calculus. The trick is pretty neat. See http://mathworld.wolfram.com/FourierSeries.html or various youtube videos on how to prove this.\n",
    "\n",
    "For example, in the sawtooth example above($L=1$), $b_2$ was found by using\n",
    "\n",
    "$$ b_2 =  \\int \\limits_{x=0}^{x=2L} sawtooth(x)\\sin(2 \\pi \\frac{x}{L})\\; dx $$"
   ]
  },
  {
   "cell_type": "markdown",
   "metadata": {},
   "source": [
    "5.1) Consider the function below. Find $a_0, a_1, a_2, a_3$ and $b_1, b_2, b_3$ and plot the fourier approximation using these terms along with the original function. Your plot should look similar to the one shown for sawtooth. Do not forget to change $L$ to appropriate value.\n",
    "\n",
    "I recommend you writing a nice function to figure out $a$ and $b$."
   ]
  },
  {
   "cell_type": "code",
   "execution_count": 5,
   "metadata": {
    "collapsed": false
   },
   "outputs": [
    {
     "data": {
      "text/plain": [
       "(-0.1, 1.1)"
      ]
     },
     "execution_count": 5,
     "metadata": {},
     "output_type": "execute_result"
    },
    {
     "data": {
      "image/png": "[encoded data removed]",
      "text/plain": [
       "<matplotlib.figure.Figure at 0x1060f6bd0>"
      ]
     },
     "metadata": {},
     "output_type": "display_data"
    }
   ],
   "source": [
    "def step(x):\n",
    "    return 0.0 if x%3>(3./2) else 1.0\n",
    "x = np.linspace(0,5,1000)\n",
    "y = [step(xx) for xx in x]\n",
    "plt.plot(x,y,label='step')\n",
    "plt.grid()\n",
    "plt.ylim(-0.1,1.1)"
   ]
  },
  {
   "cell_type": "code",
   "execution_count": null,
   "metadata": {
    "collapsed": true
   },
   "outputs": [],
   "source": []
  },
  {
   "cell_type": "markdown",
   "metadata": {},
   "source": [
    "5.2) Do 5.1 but now with $a_0, a_1, \\ldots, a_{10}$ and $b_1, b_2, \\ldots b_{10}$"
   ]
  },
  {
   "cell_type": "code",
   "execution_count": null,
   "metadata": {
    "collapsed": true
   },
   "outputs": [],
   "source": []
  },
  {
   "cell_type": "markdown",
   "metadata": {},
   "source": [
    "5.3) Consider the function below. Find $a_0, a_1, a_2, a_3$ and $b_1, b_2, b_3$ and plot the fourier approximation using these terms along with the original function. Your plot should look similar to the one shown for sawtooth. Do not forget to change $L$ to appropriate value."
   ]
  },
  {
   "cell_type": "code",
   "execution_count": 6,
   "metadata": {
    "collapsed": false
   },
   "outputs": [
    {
     "data": {
      "text/plain": [
       "(-0.1, 1.1)"
      ]
     },
     "execution_count": 6,
     "metadata": {},
     "output_type": "execute_result"
    },
    {
     "data": {
      "image/png": "[encoded data removed]",
      "text/plain": [
       "<matplotlib.figure.Figure at 0x10622fd90>"
      ]
     },
     "metadata": {},
     "output_type": "display_data"
    }
   ],
   "source": [
    "def circ(x):\n",
    "    r = 1\n",
    "    xx = (x%(2*r))\n",
    "    return sqrt(r**2-(xx-r)**2)\n",
    "x = np.linspace(0,5,1000)\n",
    "y = [circ(xx) for xx in x]\n",
    "plt.plot(x,y,label='step')\n",
    "plt.grid()\n",
    "plt.ylim(-0.1,1.1)"
   ]
  },
  {
   "cell_type": "code",
   "execution_count": null,
   "metadata": {
    "collapsed": true
   },
   "outputs": [],
   "source": []
  },
  {
   "cell_type": "markdown",
   "metadata": {},
   "source": [
    "5.4) Do 5.3 but now with $a_0, a_1, \\ldots, a_{10}$ and $ b_1, b_2, \\ldots b_{10}$"
   ]
  },
  {
   "cell_type": "code",
   "execution_count": null,
   "metadata": {
    "collapsed": true
   },
   "outputs": [],
   "source": []
  }
 ],
 "metadata": {
  "kernelspec": {
   "display_name": "Python 2",
   "language": "python",
   "name": "python2"
  },
  "language_info": {
   "codemirror_mode": {
    "name": "ipython",
    "version": 2
   },
   "file_extension": ".py",
   "mimetype": "text/x-python",
   "name": "python",
   "nbconvert_exporter": "python",
   "pygments_lexer": "ipython2",
   "version": "2.7.10"
  }
 },
 "nbformat": 4,
 "nbformat_minor": 0
}
